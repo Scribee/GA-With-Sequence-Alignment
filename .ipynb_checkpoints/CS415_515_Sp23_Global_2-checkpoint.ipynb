{
 "cells": [
  {
   "cell_type": "code",
   "execution_count": 14,
   "metadata": {
    "id": "m7yehaAK-uPh"
   },
   "outputs": [
    {
     "data": {
      "text/html": [
       "<style>\n",
       "        body{\n",
       "            font-size: 32px;\n",
       "        }\n",
       "    "
      ],
      "text/plain": [
       "<IPython.core.display.HTML object>"
      ]
     },
     "metadata": {},
     "output_type": "display_data"
    }
   ],
   "source": [
    "from IPython.display import HTML\n",
    "import numpy as np\n",
    "import copy\n",
    "import random\n",
    "\n",
    "shell = get_ipython()\n",
    "\n",
    "def adjust_font_size():\n",
    "    display(HTML('''<style>\n",
    "        body{\n",
    "            font-size: 32px;\n",
    "        }\n",
    "    '''))\n",
    "\n",
    "if adjust_font_size not in shell.events.callbacks['pre_execute']:\n",
    "    shell.events.register('pre_execute', adjust_font_size)"
   ]
  },
  {
   "cell_type": "code",
   "execution_count": 69,
   "metadata": {
    "colab": {
     "base_uri": "https://localhost:8080/",
     "height": 17
    },
    "id": "WDCFewIdDxaJ",
    "outputId": "89270116-c5aa-4124-9bed-395d979c1623"
   },
   "outputs": [
    {
     "data": {
      "text/html": [
       "<style>\n",
       "        body{\n",
       "            font-size: 32px;\n",
       "        }\n",
       "    "
      ],
      "text/plain": [
       "<IPython.core.display.HTML object>"
      ]
     },
     "metadata": {},
     "output_type": "display_data"
    },
    {
     "data": {
      "text/html": [
       "<style>\n",
       "        body{\n",
       "            font-size: 32px;\n",
       "        }\n",
       "    "
      ],
      "text/plain": [
       "<IPython.core.display.HTML object>"
      ]
     },
     "metadata": {},
     "output_type": "display_data"
    }
   ],
   "source": [
    "def printmatrix(m, pad = 4):\n",
    "    '''\n",
    "    Prints the provided 2D array in a readable format with labels for each index.\n",
    "    '''\n",
    "    \n",
    "    # Make column labels across the top of the matrix\n",
    "    for i in range(0, len(m[0]) + 1):\n",
    "        print(f'{i:>{pad}}', end = '')\n",
    "        \n",
    "    print()\n",
    "    row = 0\n",
    "    for r in m:\n",
    "        # Print labels for each row\n",
    "        row += 1\n",
    "        print(f'{str(row):>{pad}}', end = '')\n",
    "        \n",
    "        for d in r:\n",
    "            print(f'{str(d):>{pad}}', end = '')\n",
    "        print()"
   ]
  },
  {
   "cell_type": "code",
   "execution_count": 57,
   "metadata": {
    "id": "c5EcstDGeRzC"
   },
   "outputs": [
    {
     "data": {
      "text/html": [
       "<style>\n",
       "        body{\n",
       "            font-size: 32px;\n",
       "        }\n",
       "    "
      ],
      "text/plain": [
       "<IPython.core.display.HTML object>"
      ]
     },
     "metadata": {},
     "output_type": "display_data"
    },
    {
     "data": {
      "text/html": [
       "<style>\n",
       "        body{\n",
       "            font-size: 32px;\n",
       "        }\n",
       "    "
      ],
      "text/plain": [
       "<IPython.core.display.HTML object>"
      ]
     },
     "metadata": {},
     "output_type": "display_data"
    }
   ],
   "source": [
    "def get_sequences():\n",
    "    '''\n",
    "    Returns the sequences extracted from both population files, and an array of their labels.\n",
    "    '''\n",
    "    \n",
    "    f1 = open('pop1_1.txt', 'r')\n",
    "    f2 = open('pop2_1.txt', 'r')\n",
    "\n",
    "    p1 = get_array(f1)\n",
    "    p2 = get_array(f2)\n",
    "    l = np.ones_like(p1)\n",
    "    \n",
    "    for g, p in enumerate(p2):\n",
    "        for s in range(0, len(p2[g])):\n",
    "            p1[g].append(p2[g][s])\n",
    "            \n",
    "    l = np.insert(l, len(p2[0]), np.full((len(p2[0]), 1), 2), axis = 1)\n",
    "    \n",
    "    return p1, l.astype(int)\n",
    "\n",
    "def get_array(f):\n",
    "    '''\n",
    "    Extracts the sequences from a population file into a two dimensional list.\n",
    "    Returns list with shape = (generations, population size).\n",
    "    '''\n",
    "    \n",
    "    pop = []\n",
    "    gen = -1\n",
    "    for s in f:\n",
    "        if s[0] == 'P' or s[0] == '\\n':\n",
    "            pop.append([])\n",
    "            gen += 1\n",
    "            continue\n",
    "        pop[gen].append(s[:-1])\n",
    "    \n",
    "    return pop\n",
    "\n",
    "def shuffle(a, b, n):\n",
    "    '''\n",
    "    Assumes a and b are 2D lists of the same shape, and shuffles them in the same way. Only the order of\n",
    "    elements within the innermost lists are changed. The number of times to shuffle each index is the\n",
    "    provided parameter n.\n",
    "    '''\n",
    "    \n",
    "    for r in range(0, len(a)):\n",
    "        for x in range(0, n):\n",
    "            for i in range(0, len(a[r])):\n",
    "                t = random.randint(0, len(a[r]) - 1)\n",
    "                a[r][i], a[r][t] = a[r][t], a[r][i]\n",
    "                b[r][i], b[r][t] = b[r][t], b[r][i]\n",
    "    \n",
    "    #printmatrix(b)\n"
   ]
  },
  {
   "cell_type": "code",
   "execution_count": 2,
   "metadata": {},
   "outputs": [],
   "source": [
    "def analyze(seq1, seq2):\n",
    "    '''\n",
    "    Attempt to align the two given sequences and return the scoring matrix. The result of matched characters is \n",
    "    +10, for mismatched characters is -10, and the gap penalty is -8 points.\n",
    "    '''\n",
    "    \n",
    "    gappenalty = -8\n",
    "    \n",
    "    # Initialize scoring matrix\n",
    "    scoringmatrix = [[0 for i in range(0, len(seq1) + 1)] for j in range(0, len(seq2) + 1)]\n",
    "    \n",
    "    for i in range(0, len(scoringmatrix[0])):\n",
    "        scoringmatrix[0][i] =  i * gappenalty\n",
    "    for i in range(0, len(scoringmatrix)):\n",
    "        scoringmatrix[i][0] = i * gappenalty\n",
    "\n",
    "    # Populate scoring matrix for given sequences\n",
    "    for r in range(1, len(scoringmatrix)):\n",
    "        for c in range(1, len(scoringmatrix[0])):\n",
    "            # Check the score for moving in each direction\n",
    "            vert = scoringmatrix[r - 1][c] + gappenalty\n",
    "            horz = scoringmatrix[r][c - 1] + gappenalty\n",
    "            diag = scoringmatrix[r - 1][c - 1]\n",
    "            if (seq1[c - 1] == seq2[r - 1]):\n",
    "                diag += 10\n",
    "            else:\n",
    "                diag -= 10\n",
    "            # Assign the best direction score\n",
    "            scoringmatrix[r][c] = max(vert, horz, diag)\n",
    "            \n",
    "            #print(f'Index r: {r}, Index c: {c}, Last score: {scoringmatrix[r - 1][c - 1]}')\n",
    "            \n",
    "    return scoringmatrix[len(scoringmatrix) - 1][len(scoringmatrix[0]) - 1]"
   ]
  },
  {
   "cell_type": "code",
   "execution_count": 59,
   "metadata": {},
   "outputs": [
    {
     "data": {
      "text/html": [
       "<style>\n",
       "        body{\n",
       "            font-size: 32px;\n",
       "        }\n",
       "    "
      ],
      "text/plain": [
       "<IPython.core.display.HTML object>"
      ]
     },
     "metadata": {},
     "output_type": "display_data"
    },
    {
     "data": {
      "text/html": [
       "<style>\n",
       "        body{\n",
       "            font-size: 32px;\n",
       "        }\n",
       "    "
      ],
      "text/plain": [
       "<IPython.core.display.HTML object>"
      ]
     },
     "metadata": {},
     "output_type": "display_data"
    }
   ],
   "source": [
    "def compare(p):\n",
    "    '''\n",
    "    Attempts to align each sequence in the given list with every other sequence and returns a table of\n",
    "    each alignment score, and the median score.\n",
    "    '''\n",
    "    scores = np.zeros((len(p), len(p))).astype(int)\n",
    "    l = []\n",
    "    \n",
    "    # Check each sequence against all the other sequences in the generation\n",
    "    for i, s in enumerate(p):\n",
    "        for j in range(i + 1, len(p)):\n",
    "            #print(f'Comparing {t} to {s}')\n",
    "            scores[i][j] = analyze(s, p[j])\n",
    "            scores[j][i] = scores[i][j] # the comparisons would be the same\n",
    "            l.append(scores[i][j])\n",
    "                \n",
    "    return scores, np.median(np.array(l))"
   ]
  },
  {
   "cell_type": "code",
   "execution_count": 70,
   "metadata": {},
   "outputs": [
    {
     "data": {
      "text/html": [
       "<style>\n",
       "        body{\n",
       "            font-size: 32px;\n",
       "        }\n",
       "    "
      ],
      "text/plain": [
       "<IPython.core.display.HTML object>"
      ]
     },
     "metadata": {},
     "output_type": "display_data"
    },
    {
     "data": {
      "text/html": [
       "<style>\n",
       "        body{\n",
       "            font-size: 32px;\n",
       "        }\n",
       "    "
      ],
      "text/plain": [
       "<IPython.core.display.HTML object>"
      ]
     },
     "metadata": {},
     "output_type": "display_data"
    }
   ],
   "source": [
    "def check_row(s, r, key = []):\n",
    "    make_key = key == []\n",
    "    \n",
    "    med = np.median(s[r])\n",
    "    print('Median:', med)\n",
    "\n",
    "    for y in range(0, len(s)):\n",
    "        if s[r][y] == 0:\n",
    "            if make_key:\n",
    "                key.append(1)\n",
    "            # skip the diagonal for normal checking\n",
    "        elif s[r][y] > med:\n",
    "            if make_key:\n",
    "                key.append(1)\n",
    "            else:\n",
    "                s[r][y] = key[y]\n",
    "        else:\n",
    "            if make_key:\n",
    "                key.append(2)\n",
    "            else:\n",
    "                s[r][y] = 3 - key[y]  \n",
    "\n",
    "    return key\n",
    "    \n",
    "def predict(s, p):\n",
    "    '''\n",
    "    Predicts which group each individual belongs in, and returns an array with the final predictions.\n",
    "    '''\n",
    "    \n",
    "    key = check_row(s, p)\n",
    "    print(key)\n",
    "    \n",
    "    # Make sure changed rows are never checked\n",
    "    for c in range(0, len(s)):\n",
    "        check_row(s, c, key)\n",
    "\n",
    "    #printmatrix(s, 3)\n",
    "    \n",
    "    return row_mode(s)\n",
    "\n",
    "def row_mode(s):\n",
    "    '''\n",
    "    Returns an array of shape (len(s), ) that has the mode of each row. Assumes labels of 1 or 2.\n",
    "    '''\n",
    "    \n",
    "    predictions = np.zeros((len(s), )).astype(int)\n",
    "\n",
    "    for r in range(0, len(s)):\n",
    "        count = 0\n",
    "        for c in range(0, len(s[0])):\n",
    "            if s[r][c] == 1:\n",
    "                count += 1\n",
    "        if count >= len(s) / 2:\n",
    "            predictions[r] = 1\n",
    "        else:\n",
    "            predictions[r] = 2\n",
    "            \n",
    "    return predictions\n",
    "\n",
    "def col_mode(s):\n",
    "    '''\n",
    "    Returns an array of shape (len(s), ) that has the mode of each column. Assumes labels of 1 or 2.\n",
    "    '''\n",
    "    \n",
    "    predictions = np.zeros((len(s[0]), )).astype(int)\n",
    "\n",
    "    for c in range(0, len(s[0])):\n",
    "        count = 0\n",
    "        for r in range(0, len(s)):\n",
    "            if s[r][c] == 1:\n",
    "                count += 1\n",
    "        if count >= (len(s) + 1) / 2:\n",
    "            predictions[c] = 1\n",
    "        else:\n",
    "            predictions[c] = 2\n",
    "            \n",
    "    return predictions"
   ]
  },
  {
   "cell_type": "code",
   "execution_count": 67,
   "metadata": {
    "scrolled": false
   },
   "outputs": [
    {
     "data": {
      "text/html": [
       "<style>\n",
       "        body{\n",
       "            font-size: 32px;\n",
       "        }\n",
       "    "
      ],
      "text/plain": [
       "<IPython.core.display.HTML object>"
      ]
     },
     "metadata": {},
     "output_type": "display_data"
    },
    {
     "data": {
      "text/html": [
       "<style>\n",
       "        body{\n",
       "            font-size: 32px;\n",
       "        }\n",
       "    "
      ],
      "text/plain": [
       "<IPython.core.display.HTML object>"
      ]
     },
     "metadata": {},
     "output_type": "display_data"
    }
   ],
   "source": [
    "def calc_error(p, l):\n",
    "    '''\n",
    "    Returns a list of every index at which the two lists are different.\n",
    "    '''\n",
    "    \n",
    "    errors = []\n",
    "    \n",
    "    for i in range(0, len(p)):\n",
    "        if p[i] != l[i]:\n",
    "             errors.append(i)\n",
    "                \n",
    "    return errors\n",
    "\n",
    "def print_classes(pop, labels):\n",
    "    '''\n",
    "    Makes a prediction of the starting population for each sequence, and checks how accurate they were.\n",
    "    '''\n",
    "    \n",
    "    # Run the analysis for every generation\n",
    "    for gen in range(0, len(pop)):\n",
    "        # Get the alignment matrix for the generation\n",
    "        print(f'\\nScores for generation {gen + 1}:')\n",
    "        newscores, median = compare(pop[gen])\n",
    "        printmatrix(newscores, 6)\n",
    "        \n",
    "        # Find the two most similar sequences, and assume the next closest 3 in that row are all in population 1\n",
    "        predictions = []\n",
    "        bestcol = np.unravel_index(newscores.argmax(), newscores.shape)[0]\n",
    "        closest = np.argpartition(newscores[bestcol], -4)[-4:]\n",
    "        closest = np.append(closest, bestcol)\n",
    "        print(closest)\n",
    "\n",
    "        print(f'\\nPredictions for generation {gen + 1}:')\n",
    "        for p in closest:\n",
    "            #print(f'Key generated from individual {p + 1}')\n",
    "            temp = copy.deepcopy(newscores)\n",
    "            predictions.append(predict(temp, p))\n",
    "\n",
    "        printmatrix(predictions)\n",
    "        final = col_mode(predictions)\n",
    "\n",
    "        print(f'Predicted labels: {final}')\n",
    "        print(labels[gen])\n",
    "\n",
    "        # Check the accuracy of the predictions\n",
    "        errors = calc_error(final, labels[gen])\n",
    "\n",
    "        # If we missed more than half, the key sequences must have been in population 2, so swap all predictions\n",
    "        if len(errors) > 10:\n",
    "            print('Key population assumption was incorrect.')\n",
    "            final = 3 - final\n",
    "            errors = calc_error(final, labels[gen])\n",
    "                \n",
    "        # Print the missed sequences\n",
    "        for i in errors:\n",
    "            print(f'Individual {i + 1} was from population {labels[gen][i]}, but {final[i]} was predicted!')\n",
    "\n",
    "        print(f'Missed {len(errors)} out of {len(final)} predictions.')\n"
   ]
  },
  {
   "cell_type": "code",
   "execution_count": 68,
   "metadata": {
    "scrolled": false
   },
   "outputs": [
    {
     "data": {
      "text/html": [
       "<style>\n",
       "        body{\n",
       "            font-size: 32px;\n",
       "        }\n",
       "    "
      ],
      "text/plain": [
       "<IPython.core.display.HTML object>"
      ]
     },
     "metadata": {},
     "output_type": "display_data"
    },
    {
     "data": {
      "text/html": [
       "<style>\n",
       "        body{\n",
       "            font-size: 32px;\n",
       "        }\n",
       "    "
      ],
      "text/plain": [
       "<IPython.core.display.HTML object>"
      ]
     },
     "metadata": {},
     "output_type": "display_data"
    },
    {
     "name": "stdout",
     "output_type": "stream",
     "text": [
      "Analysis of sorted population:\n",
      "Analysis of shuffled population:\n",
      "\n",
      "Scores for generation 1:\n",
      "     0     1     2     3     4     5     6     7     8     9    10    11    12    13    14    15    16    17    18    19    20\n",
      "     1     0   760   750  1458  1156   966   780   760   906   714   760   752  1282   734  1216   768  1230  1828  1920   722\n",
      "     2   760     0  1552   786   786   728  1734  1874   720  1510  1920  1496   784  1484   740  1488   720   760   760  1508\n",
      "     3   750  1552     0   780   672   662  1474  1506   662  1312  1552  1294   664  1484   646  1326   636   750   750  1306\n",
      "     4  1458   786   780     0  1140   984   772   786   972   696   786   770  1252   726  1166   784  1146  1472  1458   756\n",
      "     5  1156   786   672  1140     0   884   704   806   852   680   786   776  1748   640  1656   812  1542  1222  1156   760\n",
      "     6   966   728   662   984   884     0   670   748  1860   564   728   724   924   694   928   714   836   946   966   690\n",
      "     7   780  1734  1474   772   704   670     0  1688   648  1390  1734  1364   738  1348   714  1330   698   778   780  1350\n",
      "     8   760  1874  1506   786   806   748  1688     0   740  1464  1874  1450   802  1438   750  1442   738   760   760  1462\n",
      "     9   906   720   662   972   852  1860   648   740     0   538   720   704   892   694   896   706   804   928   906   680\n",
      "    10   714  1510  1312   696   680   564  1390  1464   538     0  1510  1268   648  1216   634  1282   648   688   714  1254\n",
      "    11   760  1920  1552   786   786   728  1734  1874   720  1510     0  1496   784  1484   740  1488   720   760   760  1508\n",
      "    12   752  1496  1294   770   776   724  1364  1450   704  1268  1496     0   770  1218   722  1694   706   756   752  1754\n",
      "    13  1282   784   664  1252  1748   924   738   802   892   648   784   770     0   662  1742   806  1688  1340  1282   764\n",
      "    14   734  1484  1484   726   640   694  1348  1438   694  1216  1484  1218   662     0   646  1238   664   726   734  1352\n",
      "    15  1216   740   646  1166  1656   928   714   750   896   634   740   722  1742   646     0   746  1694  1248  1216   720\n",
      "    16   768  1488  1326   784   812   714  1330  1442   706  1282  1488  1694   806  1238   746     0   748   766   768  1740\n",
      "    17  1230   720   636  1146  1542   836   698   738   804   648   720   706  1688   664  1694   748     0  1262  1230   696\n",
      "    18  1828   760   750  1472  1222   946   778   760   928   688   760   756  1340   726  1248   766  1262     0  1828   736\n",
      "    19  1920   760   750  1458  1156   966   780   760   906   714   760   752  1282   734  1216   768  1230  1828     0   722\n",
      "    20   722  1508  1306   756   760   690  1350  1462   680  1254  1508  1754   764  1352   720  1740   696   736   722     0\n",
      "[12  3 18 17  0]\n",
      "\n",
      "Predictions for generation 1:\n",
      "Median: 804.0\n",
      "[1, 2, 2, 1, 1, 1, 2, 2, 1, 2, 2, 2, 1, 2, 1, 1, 1, 1, 1, 2]\n",
      "Median: 774.0\n",
      "Median: 786.0\n",
      "Median: 765.0\n",
      "Median: 786.0\n",
      "Median: 809.0\n",
      "Median: 738.0\n",
      "Median: 780.0\n",
      "Median: 804.0\n",
      "Median: 730.0\n",
      "Median: 714.0\n",
      "Median: 786.0\n",
      "Median: 773.0\n",
      "Median: 804.0\n",
      "Median: 734.0\n",
      "Median: 748.0\n",
      "Median: 809.0\n",
      "Median: 743.0\n",
      "Median: 772.0\n",
      "Median: 774.0\n",
      "Median: 762.0\n",
      "Median: 786.0\n",
      "[1, 2, 2, 1, 1, 1, 2, 2, 1, 2, 2, 2, 1, 2, 1, 1, 1, 1, 1, 2]\n",
      "Median: 774.0\n",
      "Median: 786.0\n",
      "Median: 765.0\n",
      "Median: 1.0\n",
      "Median: 809.0\n",
      "Median: 738.0\n",
      "Median: 780.0\n",
      "Median: 804.0\n",
      "Median: 730.0\n",
      "Median: 714.0\n",
      "Median: 786.0\n",
      "Median: 773.0\n",
      "Median: 804.0\n",
      "Median: 734.0\n",
      "Median: 748.0\n",
      "Median: 809.0\n",
      "Median: 743.0\n",
      "Median: 772.0\n",
      "Median: 774.0\n",
      "Median: 762.0\n",
      "Median: 774.0\n",
      "[1, 2, 2, 1, 1, 1, 2, 2, 1, 2, 2, 2, 1, 2, 1, 1, 1, 1, 1, 2]\n",
      "Median: 774.0\n",
      "Median: 786.0\n",
      "Median: 765.0\n",
      "Median: 786.0\n",
      "Median: 809.0\n",
      "Median: 738.0\n",
      "Median: 780.0\n",
      "Median: 804.0\n",
      "Median: 730.0\n",
      "Median: 714.0\n",
      "Median: 786.0\n",
      "Median: 773.0\n",
      "Median: 804.0\n",
      "Median: 734.0\n",
      "Median: 748.0\n",
      "Median: 809.0\n",
      "Median: 743.0\n",
      "Median: 772.0\n",
      "Median: 1.0\n",
      "Median: 762.0\n",
      "Median: 772.0\n",
      "[1, 2, 2, 1, 1, 1, 2, 2, 1, 2, 2, 2, 1, 2, 1, 1, 1, 1, 1, 2]\n",
      "Median: 774.0\n",
      "Median: 786.0\n",
      "Median: 765.0\n",
      "Median: 786.0\n",
      "Median: 809.0\n",
      "Median: 738.0\n",
      "Median: 780.0\n",
      "Median: 804.0\n",
      "Median: 730.0\n",
      "Median: 714.0\n",
      "Median: 786.0\n",
      "Median: 773.0\n",
      "Median: 804.0\n",
      "Median: 734.0\n",
      "Median: 748.0\n",
      "Median: 809.0\n",
      "Median: 743.0\n",
      "Median: 1.0\n",
      "Median: 774.0\n",
      "Median: 762.0\n",
      "Median: 774.0\n",
      "[1, 2, 2, 1, 1, 1, 2, 2, 1, 2, 2, 2, 1, 2, 1, 1, 1, 1, 1, 2]\n",
      "Median: 1.0\n",
      "Median: 786.0\n",
      "Median: 765.0\n",
      "Median: 786.0\n",
      "Median: 809.0\n",
      "Median: 738.0\n",
      "Median: 780.0\n",
      "Median: 804.0\n",
      "Median: 730.0\n",
      "Median: 714.0\n",
      "Median: 786.0\n",
      "Median: 773.0\n",
      "Median: 804.0\n",
      "Median: 734.0\n",
      "Median: 748.0\n",
      "Median: 809.0\n",
      "Median: 743.0\n",
      "Median: 772.0\n",
      "Median: 774.0\n",
      "Median: 762.0\n",
      "   0   1   2   3   4   5   6   7   8   9  10  11  12  13  14  15  16  17  18  19  20\n",
      "   1   1   2   2   1   1   1   2   2   1   2   2   2   1   2   1   2   1   1   1   2\n",
      "   2   1   2   2   1   1   1   2   2   1   2   2   2   1   2   1   2   1   1   1   2\n",
      "   3   1   2   2   1   1   1   2   2   1   2   2   2   1   2   1   2   1   1   2   2\n",
      "   4   1   2   2   1   1   1   2   2   1   2   2   2   1   2   1   2   1   2   1   2\n",
      "   5   2   2   2   1   1   1   2   2   1   2   2   2   1   2   1   2   1   1   1   2\n",
      "Predicted labels: [1 2 2 1 1 1 2 2 1 2 2 2 1 2 1 2 1 1 1 2]\n",
      "[2 1 1 2 2 2 1 1 2 1 1 1 2 1 2 1 2 2 2 1]\n",
      "Key population assumption was incorrect.\n",
      "Missed 0 out of 20 predictions.\n",
      "\n",
      "Scores for generation 2:\n",
      "     0     1     2     3     4     5     6     7     8     9    10    11    12    13    14    15    16    17    18    19    20\n",
      "     1     0   446  1034   546   486   554  1024  1782   514   540  1110   496  1056   502   518   480  1128  1618  1186  1068\n",
      "     2   446     0   440  1524  1814  1530   478   452  1496  1484   460  1450   466  1064   838  1808   464   416   388   362\n",
      "     3  1034   440     0   398   420   428  1504  1020   430   414  1490   428  1562   422   454   398  1518  1040   846  1408\n",
      "     4   546  1524   398     0  1596  1860   482   556  1676  1814   468  1616   422  1044   860  1498   462   516   514   416\n",
      "     5   486  1814   420  1596     0  1602   466   492  1576  1564   440  1530   446  1066   878  1782   452   436   428   376\n",
      "     6   554  1530   428  1860  1602     0   504   556  1736  1874   476  1676   470  1092   852  1504   496   536   490   410\n",
      "     7  1024   478  1504   482   466   504     0   982   510   490  1582   484  1596   478   422   464  1498   974   982  1382\n",
      "     8  1782   452  1020   556   492   556   982     0   504   542  1056   480  1002   470   486   506  1082  1756  1232  1048\n",
      "     9   514  1496   430  1676  1576  1736   510   504     0  1690   496  1834   470  1098   838  1470   496   516   524   416\n",
      "    10   540  1484   414  1814  1564  1874   490   542  1690     0   462  1630   456  1052   838  1458   482   522   510   404\n",
      "    11  1110   460  1490   468   440   476  1582  1056   496   462     0   530  1714   504   444   440  1596  1064  1062  1514\n",
      "    12   496  1450   428  1616  1530  1676   484   480  1834  1630   530     0   494  1098   838  1444   474   518   510   450\n",
      "    13  1056   466  1562   422   446   470  1596  1002   470   456  1714   494     0   454   428   478  1616  1012   928  1474\n",
      "    14   502  1064   422  1044  1066  1092   478   470  1098  1052   504  1098   454     0   940  1026   460   510   528   436\n",
      "    15   518   838   454   860   878   852   422   486   838   838   444   838   428   940     0   838   470   444   470   396\n",
      "    16   480  1808   398  1498  1782  1504   464   506  1470  1458   440  1444   478  1026   838     0   418   470   402   366\n",
      "    17  1128   464  1518   462   452   496  1498  1082   496   482  1596   474  1616   460   470   418     0  1060   914  1708\n",
      "    18  1618   416  1040   516   436   536   974  1756   516   522  1064   518  1012   510   444   470  1060     0  1114  1060\n",
      "    19  1186   388   846   514   428   490   982  1232   524   510  1062   510   928   528   470   402   914  1114     0   902\n",
      "    20  1068   362  1408   416   376   410  1382  1048   416   404  1514   450  1474   436   396   366  1708  1060   902     0\n",
      "[11  8  3  9  5]\n",
      "\n",
      "Predictions for generation 2:\n",
      "Median: 524.0\n",
      "[1, 2, 2, 1, 1, 1, 2, 2, 1, 2, 2, 2, 1, 2, 1, 1, 1, 1, 1, 2]\n",
      "Median: 550.0\n",
      "Median: 472.0\n",
      "Median: 447.0\n",
      "Median: 551.0\n",
      "Median: 489.0\n",
      "Median: 555.0\n",
      "Median: 507.0\n",
      "Median: 556.0\n",
      "Median: 520.0\n",
      "Median: 541.0\n",
      "Median: 517.0\n",
      "Median: 1.0\n",
      "Median: 486.0\n",
      "Median: 519.0\n",
      "Median: 502.0\n",
      "Median: 493.0\n",
      "Median: 496.0\n",
      "Median: 529.0\n",
      "Median: 526.0\n",
      "Median: 443.0\n",
      "Median: 520.0\n",
      "[1, 2, 2, 1, 1, 1, 2, 2, 1, 2, 2, 2, 1, 2, 1, 1, 1, 1, 1, 2]\n",
      "Median: 550.0\n",
      "Median: 472.0\n",
      "Median: 447.0\n",
      "Median: 551.0\n",
      "Median: 489.0\n",
      "Median: 555.0\n",
      "Median: 507.0\n",
      "Median: 556.0\n",
      "Median: 1.0\n",
      "Median: 541.0\n",
      "Median: 517.0\n",
      "Median: 524.0\n",
      "Median: 486.0\n",
      "Median: 519.0\n",
      "Median: 502.0\n",
      "Median: 493.0\n",
      "Median: 496.0\n",
      "Median: 529.0\n",
      "Median: 526.0\n",
      "Median: 443.0\n",
      "Median: 551.0\n",
      "[1, 2, 2, 1, 1, 1, 2, 2, 1, 2, 2, 2, 1, 2, 1, 1, 1, 1, 1, 2]\n",
      "Median: 550.0\n",
      "Median: 472.0\n",
      "Median: 447.0\n",
      "Median: 1.5\n",
      "Median: 489.0\n",
      "Median: 555.0\n",
      "Median: 507.0\n",
      "Median: 556.0\n",
      "Median: 520.0\n",
      "Median: 541.0\n",
      "Median: 517.0\n",
      "Median: 524.0\n",
      "Median: 486.0\n",
      "Median: 519.0\n",
      "Median: 502.0\n",
      "Median: 493.0\n",
      "Median: 496.0\n",
      "Median: 529.0\n",
      "Median: 526.0\n",
      "Median: 443.0\n",
      "Median: 541.0\n",
      "[1, 2, 2, 1, 1, 1, 2, 2, 1, 2, 2, 2, 1, 2, 1, 1, 1, 1, 1, 2]\n",
      "Median: 550.0\n",
      "Median: 472.0\n",
      "Median: 447.0\n",
      "Median: 551.0\n",
      "Median: 489.0\n",
      "Median: 555.0\n",
      "Median: 507.0\n",
      "Median: 556.0\n",
      "Median: 520.0\n",
      "Median: 1.0\n",
      "Median: 517.0\n",
      "Median: 524.0\n",
      "Median: 486.0\n",
      "Median: 519.0\n",
      "Median: 502.0\n",
      "Median: 493.0\n",
      "Median: 496.0\n",
      "Median: 529.0\n",
      "Median: 526.0\n",
      "Median: 443.0\n",
      "Median: 555.0\n",
      "[1, 2, 2, 1, 1, 1, 2, 2, 1, 2, 2, 2, 1, 2, 1, 1, 1, 1, 1, 2]\n",
      "Median: 550.0\n",
      "Median: 472.0\n",
      "Median: 447.0\n",
      "Median: 551.0\n",
      "Median: 489.0\n",
      "Median: 1.5\n",
      "Median: 507.0\n",
      "Median: 556.0\n",
      "Median: 520.0\n",
      "Median: 541.0\n",
      "Median: 517.0\n",
      "Median: 524.0\n",
      "Median: 486.0\n",
      "Median: 519.0\n",
      "Median: 502.0\n",
      "Median: 493.0\n",
      "Median: 496.0\n",
      "Median: 529.0\n",
      "Median: 526.0\n",
      "Median: 443.0\n",
      "   0   1   2   3   4   5   6   7   8   9  10  11  12  13  14  15  16  17  18  19  20\n",
      "   1   2   1   1   2   2   2   1   2   1   1   2   2   2   1   1   2   2   2   2   2\n",
      "   2   2   1   1   2   2   2   1   2   2   1   2   1   2   1   1   2   2   2   2   2\n",
      "   3   2   1   1   2   2   2   1   2   1   1   2   1   2   1   1   2   2   2   2   2\n",
      "   4   2   1   1   2   2   2   1   2   1   2   2   1   2   1   1   2   2   2   2   2\n",
      "   5   2   1   1   2   2   2   1   2   1   1   2   1   2   1   1   2   2   2   2   2\n",
      "Predicted labels: [2 1 1 2 2 2 1 2 1 1 2 1 2 1 1 2 2 2 2 2]\n",
      "[1 2 1 2 2 2 1 1 2 2 1 2 1 2 2 2 1 1 1 1]\n",
      "Key population assumption was incorrect.\n",
      "Individual 3 was from population 1, but 2 was predicted!\n",
      "Individual 4 was from population 2, but 1 was predicted!\n",
      "Individual 5 was from population 2, but 1 was predicted!\n",
      "Individual 6 was from population 2, but 1 was predicted!\n",
      "Individual 7 was from population 1, but 2 was predicted!\n",
      "Individual 16 was from population 2, but 1 was predicted!\n",
      "Missed 6 out of 20 predictions.\n",
      "\n",
      "Scores for generation 3:\n"
     ]
    },
    {
     "ename": "KeyboardInterrupt",
     "evalue": "",
     "output_type": "error",
     "traceback": [
      "\u001b[1;31m---------------------------------------------------------------------------\u001b[0m",
      "\u001b[1;31mKeyboardInterrupt\u001b[0m                         Traceback (most recent call last)",
      "Cell \u001b[1;32mIn[68], line 7\u001b[0m\n\u001b[0;32m      5\u001b[0m \u001b[38;5;28mprint\u001b[39m(\u001b[38;5;124m'\u001b[39m\u001b[38;5;124mAnalysis of shuffled population:\u001b[39m\u001b[38;5;124m'\u001b[39m)\n\u001b[0;32m      6\u001b[0m shuffle(combined_pop, labels, \u001b[38;5;241m10\u001b[39m)\n\u001b[1;32m----> 7\u001b[0m \u001b[43mprint_classes\u001b[49m\u001b[43m(\u001b[49m\u001b[43mcombined_pop\u001b[49m\u001b[43m,\u001b[49m\u001b[43m \u001b[49m\u001b[43mlabels\u001b[49m\u001b[43m)\u001b[49m\n",
      "Cell \u001b[1;32mIn[67], line 23\u001b[0m, in \u001b[0;36mprint_classes\u001b[1;34m(pop, labels)\u001b[0m\n\u001b[0;32m     20\u001b[0m \u001b[38;5;28;01mfor\u001b[39;00m gen \u001b[38;5;129;01min\u001b[39;00m \u001b[38;5;28mrange\u001b[39m(\u001b[38;5;241m0\u001b[39m, \u001b[38;5;28mlen\u001b[39m(pop)):\n\u001b[0;32m     21\u001b[0m     \u001b[38;5;66;03m# Get the alignment matrix for the generation\u001b[39;00m\n\u001b[0;32m     22\u001b[0m     \u001b[38;5;28mprint\u001b[39m(\u001b[38;5;124mf\u001b[39m\u001b[38;5;124m'\u001b[39m\u001b[38;5;130;01m\\n\u001b[39;00m\u001b[38;5;124mScores for generation \u001b[39m\u001b[38;5;132;01m{\u001b[39;00mgen\u001b[38;5;250m \u001b[39m\u001b[38;5;241m+\u001b[39m\u001b[38;5;250m \u001b[39m\u001b[38;5;241m1\u001b[39m\u001b[38;5;132;01m}\u001b[39;00m\u001b[38;5;124m:\u001b[39m\u001b[38;5;124m'\u001b[39m)\n\u001b[1;32m---> 23\u001b[0m     newscores, median \u001b[38;5;241m=\u001b[39m \u001b[43mcompare\u001b[49m\u001b[43m(\u001b[49m\u001b[43mpop\u001b[49m\u001b[43m[\u001b[49m\u001b[43mgen\u001b[49m\u001b[43m]\u001b[49m\u001b[43m)\u001b[49m\n\u001b[0;32m     24\u001b[0m     printmatrix(newscores, \u001b[38;5;241m6\u001b[39m)\n\u001b[0;32m     26\u001b[0m     \u001b[38;5;66;03m# Find the two most similar sequences, and assume the next closest 3 in that row are all in population 1\u001b[39;00m\n",
      "Cell \u001b[1;32mIn[59], line 13\u001b[0m, in \u001b[0;36mcompare\u001b[1;34m(p)\u001b[0m\n\u001b[0;32m     10\u001b[0m \u001b[38;5;28;01mfor\u001b[39;00m i, s \u001b[38;5;129;01min\u001b[39;00m \u001b[38;5;28menumerate\u001b[39m(p):\n\u001b[0;32m     11\u001b[0m     \u001b[38;5;28;01mfor\u001b[39;00m j \u001b[38;5;129;01min\u001b[39;00m \u001b[38;5;28mrange\u001b[39m(i \u001b[38;5;241m+\u001b[39m \u001b[38;5;241m1\u001b[39m, \u001b[38;5;28mlen\u001b[39m(p)):\n\u001b[0;32m     12\u001b[0m         \u001b[38;5;66;03m#print(f'Comparing {t} to {s}')\u001b[39;00m\n\u001b[1;32m---> 13\u001b[0m         scores[i][j] \u001b[38;5;241m=\u001b[39m \u001b[43manalyze\u001b[49m\u001b[43m(\u001b[49m\u001b[43ms\u001b[49m\u001b[43m,\u001b[49m\u001b[43m \u001b[49m\u001b[43mp\u001b[49m\u001b[43m[\u001b[49m\u001b[43mj\u001b[49m\u001b[43m]\u001b[49m\u001b[43m)\u001b[49m\n\u001b[0;32m     14\u001b[0m         scores[j][i] \u001b[38;5;241m=\u001b[39m scores[i][j] \u001b[38;5;66;03m# the comparisons would be the same\u001b[39;00m\n\u001b[0;32m     15\u001b[0m         l\u001b[38;5;241m.\u001b[39mappend(scores[i][j])\n",
      "Cell \u001b[1;32mIn[2], line 29\u001b[0m, in \u001b[0;36manalyze\u001b[1;34m(seq1, seq2)\u001b[0m\n\u001b[0;32m     27\u001b[0m             diag \u001b[38;5;241m-\u001b[39m\u001b[38;5;241m=\u001b[39m \u001b[38;5;241m10\u001b[39m\n\u001b[0;32m     28\u001b[0m         \u001b[38;5;66;03m# Assign the best direction score\u001b[39;00m\n\u001b[1;32m---> 29\u001b[0m         \u001b[43mscoringmatrix\u001b[49m\u001b[43m[\u001b[49m\u001b[43mr\u001b[49m\u001b[43m]\u001b[49m[c] \u001b[38;5;241m=\u001b[39m \u001b[38;5;28mmax\u001b[39m(vert, horz, diag)\n\u001b[0;32m     31\u001b[0m         \u001b[38;5;66;03m#print(f'Index r: {r}, Index c: {c}, Last score: {scoringmatrix[r - 1][c - 1]}')\u001b[39;00m\n\u001b[0;32m     33\u001b[0m \u001b[38;5;28;01mreturn\u001b[39;00m scoringmatrix[\u001b[38;5;28mlen\u001b[39m(scoringmatrix) \u001b[38;5;241m-\u001b[39m \u001b[38;5;241m1\u001b[39m][\u001b[38;5;28mlen\u001b[39m(scoringmatrix[\u001b[38;5;241m0\u001b[39m]) \u001b[38;5;241m-\u001b[39m \u001b[38;5;241m1\u001b[39m]\n",
      "\u001b[1;31mKeyboardInterrupt\u001b[0m: "
     ]
    }
   ],
   "source": [
    "print('Analysis of sorted population:')\n",
    "combined_pop, labels = get_sequences()\n",
    "#print_classes(combined_pop, labels)\n",
    "\n",
    "print('Analysis of shuffled population:')\n",
    "shuffle(combined_pop, labels, 10)\n",
    "print_classes(combined_pop, labels)"
   ]
  }
 ],
 "metadata": {
  "colab": {
   "provenance": []
  },
  "kernelspec": {
   "display_name": "Python 3 (ipykernel)",
   "language": "python",
   "name": "python3"
  },
  "language_info": {
   "codemirror_mode": {
    "name": "ipython",
    "version": 3
   },
   "file_extension": ".py",
   "mimetype": "text/x-python",
   "name": "python",
   "nbconvert_exporter": "python",
   "pygments_lexer": "ipython3",
   "version": "3.8.15"
  }
 },
 "nbformat": 4,
 "nbformat_minor": 1
}
