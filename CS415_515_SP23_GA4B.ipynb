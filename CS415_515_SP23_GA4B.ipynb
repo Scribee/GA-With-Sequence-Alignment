{
 "cells": [
  {
   "cell_type": "code",
   "execution_count": 10,
   "metadata": {
    "colab": {
     "base_uri": "https://localhost:8080/",
     "height": 17
    },
    "id": "E3_JjMFQSJe3",
    "outputId": "85a359a0-e440-4f22-f910-967f6ee35cad"
   },
   "outputs": [
    {
     "data": {
      "text/html": [
       "<style>\n",
       "        body{\n",
       "            font-size: 32px;\n",
       "        }\n",
       "    "
      ],
      "text/plain": [
       "<IPython.core.display.HTML object>"
      ]
     },
     "metadata": {},
     "output_type": "display_data"
    }
   ],
   "source": [
    "import random\n",
    "import copy"
   ]
  },
  {
   "cell_type": "code",
   "execution_count": 11,
   "metadata": {
    "colab": {
     "base_uri": "https://localhost:8080/",
     "height": 17
    },
    "id": "udxny0kOTn19",
    "outputId": "209f3f94-3a16-435d-9ffd-41b445c8e0ca"
   },
   "outputs": [
    {
     "data": {
      "text/html": [
       "<style>\n",
       "        body{\n",
       "            font-size: 32px;\n",
       "        }\n",
       "    "
      ],
      "text/plain": [
       "<IPython.core.display.HTML object>"
      ]
     },
     "metadata": {},
     "output_type": "display_data"
    }
   ],
   "source": [
    "from IPython.display import HTML\n",
    "shell = get_ipython()\n",
    "\n",
    "def adjust_font_size():\n",
    "    display(HTML('''<style>\n",
    "        body{\n",
    "            font-size: 32px;\n",
    "        }\n",
    "    '''))\n",
    "\n",
    "if adjust_font_size not in shell.events.callbacks['pre_execute']:\n",
    "    shell.events.register('pre_execute', adjust_font_size)"
   ]
  },
  {
   "cell_type": "code",
   "execution_count": 119,
   "metadata": {
    "colab": {
     "base_uri": "https://localhost:8080/",
     "height": 17
    },
    "id": "jmYTf3YBKSNV",
    "outputId": "685bf824-bcf6-4dcf-a6f4-981c5d7118a4"
   },
   "outputs": [
    {
     "data": {
      "text/html": [
       "<style>\n",
       "        body{\n",
       "            font-size: 32px;\n",
       "        }\n",
       "    "
      ],
      "text/plain": [
       "<IPython.core.display.HTML object>"
      ]
     },
     "metadata": {},
     "output_type": "display_data"
    },
    {
     "data": {
      "text/html": [
       "<style>\n",
       "        body{\n",
       "            font-size: 32px;\n",
       "        }\n",
       "    "
      ],
      "text/plain": [
       "<IPython.core.display.HTML object>"
      ]
     },
     "metadata": {},
     "output_type": "display_data"
    }
   ],
   "source": [
    "genomesize = 48\n",
    "DNAcharacters = 'TGCA'\n",
    "mutationprob = 5\n",
    "class individual:\n",
    "    def __init__(self, initial=[]): # constructor - constructs a new individual object\n",
    "        #print(\"Creating a new individual\")\n",
    "        self.fitness = 0\n",
    "        self.genome = []\n",
    "        for i in range(0,genomesize):\n",
    "            if initial != []:\n",
    "                self.genome.append(initial[i])\n",
    "            else:\n",
    "                self.genome.append(random.choice(DNAcharacters))\n",
    "        self.calcFitness()\n",
    "\n",
    "    def print(self):\n",
    "        for c in self.genome:\n",
    "            print(c,end = \"\")\n",
    "        print(\"  fitness:\" + str(self.fitness))\n",
    "\n",
    "    def calcFitness(self):\n",
    "        self.fitness = 1\n",
    "        for c in DNAcharacters:\n",
    "            self.fitness *= 4 * self.getScore(c) / genomesize\n",
    "    \n",
    "    def getScore(self, base):\n",
    "        '''\n",
    "        Gets the total distance between each pair of the provided base in the genome.\n",
    "        '''\n",
    "        dist = 0\n",
    "        count = 0\n",
    "        last = -1\n",
    "        for i, b in enumerate(self.genome):\n",
    "            if b == base:\n",
    "                # Don't do the math for the first base found\n",
    "                if last > -1:\n",
    "                    dist += i - last\n",
    "                if b == self.genome[(i + 4) % genomesize]:\n",
    "                    dist += 1\n",
    "                last = i\n",
    "                count += 1\n",
    "                \n",
    "        return dist * count\n",
    "    \n",
    "    def mutation(self):\n",
    "        for i in range(0, genomesize, 4):\n",
    "            # Allow random bases to be replaced if the codon doesn't have all bases\n",
    "            if not self.check_codon(i):\n",
    "                for j in range(0, 4):\n",
    "                    if (random.uniform(0, 100) < mutationprob):\n",
    "                        new_base = random.choice(DNAcharacters)\n",
    "                        self.genome[i + j] = new_base if new_base not in self.genome[i:i + 4] else random.choice(DNAcharacters)\n",
    "            elif (random.uniform(0, 100) < mutationprob):\n",
    "                # Swap some bases if the codon doesn't match the following one\n",
    "                if self.genome[i:i + 4] != self.genome[i + 4:i + 8]:\n",
    "                    j = random.randint(i, i + 2)\n",
    "                    temp = self.genome[j]\n",
    "                    self.genome[j] = self.genome[j + 1]\n",
    "                    self.genome[j + 1] = temp\n",
    "                # Swap the first 2 if the first base matches the last one of the previous codon\n",
    "                if self.genome[i] == self.genome[i - 1]:\n",
    "                    temp = self.genome[i]\n",
    "                    self.genome[i] = self.genome[i + 1]\n",
    "                    self.genome[i + 1] = temp\n",
    "        self.calcFitness()\n",
    "        \n",
    "    def check_codon(self, i):\n",
    "        '''\n",
    "        Return true if the current and next 3 bases in the genome are all different.\n",
    "        '''\n",
    "        for j in range(i, i + 4):\n",
    "            if DNAcharacters[j - i] not in self.genome[i:i + 4]:\n",
    "                return False\n",
    "        return True\n",
    "\n",
    "    def copy(self, source):\n",
    "        self.fitness = source.fitness\n",
    "        for i in range(0,genomesize):\n",
    "            self.genome[i] = source.genome[i]\n",
    "\n",
    "   # def __str__(self):\n",
    "    #    output = \"hi \"\n",
    "     #   for c in self.genome:\n",
    "      #      output = output + c\n",
    "      #  output += \" \"\n",
    "      #  output += \"fitness: \"\n",
    "      #  output += str(self.fitness)\n",
    "      #  return output\n",
    "\n",
    "popsize = 100\n",
    "tourn_size = 3\n",
    "\n",
    "class population:\n",
    "    def __init__(self): # constructor - constructs a new pop object\n",
    "        #print(\"Creating a new population\")\n",
    "        self.avg_fitness = 0\n",
    "        self.generation = 0\n",
    "        self.gen_diverged = -1\n",
    "        self.the_pop = []\n",
    "        for i in range(0, popsize):\n",
    "            self.the_pop.append(individual())\n",
    "        self.best = self.the_pop[0]\n",
    "        self.worst = self.the_pop[0]\n",
    "    \n",
    "    def calcstats(self):\n",
    "        self.avg_fitness = 0\n",
    "        self.best = self.the_pop[0]\n",
    "        self.worst = self.the_pop[0]\n",
    "        \n",
    "        for i in self.the_pop:\n",
    "            self.avg_fitness += i.fitness\n",
    "            \n",
    "            if i.fitness < self.worst.fitness:\n",
    "                self.worst = i\n",
    "            elif i.fitness > self.best.fitness:\n",
    "                self.best = i\n",
    "        self.avg_fitness /= popsize\n",
    "\n",
    "    def generational(self):\n",
    "        self.generation += 1\n",
    "        \n",
    "        tempPop = population()\n",
    "        for i in range(0, popsize, 2): #  needs an even pop size\n",
    "            parent = self.tournament() # select, returns an index\n",
    "            parent2 = self.tournament() # select, returns an index\n",
    "            tempPop.the_pop[i].copy(self.the_pop[parent])\n",
    "            tempPop.the_pop[i+1].copy(self.the_pop[parent2])\n",
    "            tempPop.crossover(i,i+1)\n",
    "            tempPop.the_pop[i+1].mutation()\n",
    "            tempPop.the_pop[i].mutation()\n",
    "            #tempPop.the_pop[i].calcFitness(), already done in mutation\n",
    "        #mutate them?\n",
    "        #when new/temp population is full, copy new/temp pop back into the_pop\n",
    "        for i in range(0,popsize):\n",
    "            self.the_pop[i].copy(tempPop.the_pop[i])\n",
    "        self.calcstats()\n",
    "    \n",
    "    def onepoint_crossover(self,p1,p2):\n",
    "        crossover_point = random.randint(0,genomesize)\n",
    "        for j in range(crossover_point,genomesize):\n",
    "            temp = self.the_pop[p1].genome[j] # remember parent 1's character\n",
    "            self.the_pop[p1].genome[j] = self.the_pop[p2].genome[j]\n",
    "            self.the_pop[p2].genome[j] = temp\n",
    "\n",
    "    def crossover(self,p1,p2): # uniform crossover\n",
    "        for j in range(0,genomesize):\n",
    "            if random.randint(0,100) < 10: # uniform crossover\n",
    "                #print(j)\n",
    "                temp = self.the_pop[p1].genome[j] # remember parent 1's character\n",
    "                self.the_pop[p1].genome[j] = self.the_pop[p2].genome[j]\n",
    "                self.the_pop[p2].genome[j] = temp\n",
    "                # temp = a\n",
    "                # a = b\n",
    "                # b = temp\n",
    "                #self.the_pop[p1].genome[j],self.the_pop[p2].genome[j] = self.the_pop[p2].genome[j],self.the_pop[p1].genome[j]\n",
    "                # a,b=b,a\n",
    "                \n",
    "    def tournament(self):\n",
    "        best_so_far = random.randint(0,popsize-1)\n",
    "        best_fitness = self.the_pop[best_so_far].fitness\n",
    "        #print(best_so_far)\n",
    "        for i in range(0,tourn_size - 1):\n",
    "            current = random.randint(0,popsize-1)\n",
    "            #print(current)\n",
    "            current_fit = self.the_pop[current].fitness\n",
    "            if(current_fit > best_fitness):\n",
    "                best_so_far = current\n",
    "                best_fitness = current_fit\n",
    "        return best_so_far\n"
   ]
  },
  {
   "cell_type": "code",
   "execution_count": 25,
   "metadata": {
    "colab": {
     "base_uri": "https://localhost:8080/",
     "height": 176
    },
    "id": "wlE3CVSH-ltJ",
    "outputId": "aaef50b5-8c3c-4a8c-c03b-926b9fc3df7a"
   },
   "outputs": [
    {
     "data": {
      "text/html": [
       "<style>\n",
       "        body{\n",
       "            font-size: 32px;\n",
       "        }\n",
       "    "
      ],
      "text/plain": [
       "<IPython.core.display.HTML object>"
      ]
     },
     "metadata": {},
     "output_type": "display_data"
    },
    {
     "data": {
      "text/html": [
       "<style>\n",
       "        body{\n",
       "            font-size: 32px;\n",
       "        }\n",
       "    "
      ],
      "text/plain": [
       "<IPython.core.display.HTML object>"
      ]
     },
     "metadata": {},
     "output_type": "display_data"
    },
    {
     "name": "stdout",
     "output_type": "stream",
     "text": [
      "CCAGTCCTGTCCGAGGCCAGTGGCGGGGATCCAGATCGGAGCGGTCCTCA  fitness:2929543.5055104\n",
      "TCATAGCCGTAGGGAAGTTTCGACGACTTGATTTCTATGCTGTAGTCATA  fitness:3572975.9010815998\n",
      "CCAGTGCCGTAGGGAAGTTTCGACGACTTGATTTCTATGCTGTAGTCATA  fitness:2929543.5055104\n",
      "TCATACCTGTCCGAGGCCAGTGGCGGGGATCCAGATCGGAGCGGTCCTCA  fitness:3572975.9010815998\n"
     ]
    }
   ],
   "source": [
    "p = population()\n",
    "p.the_pop[0].print()\n",
    "p.the_pop[1].print()\n",
    "p.onepoint_crossover(0,1)\n",
    "p.the_pop[0].print()\n",
    "p.the_pop[1].print()"
   ]
  },
  {
   "cell_type": "code",
   "execution_count": 96,
   "metadata": {
    "colab": {
     "base_uri": "https://localhost:8080/",
     "height": 1000
    },
    "id": "F283LynQe_jy",
    "outputId": "ac20c5b2-2570-4b90-cfcc-c45537f71bbd",
    "scrolled": true
   },
   "outputs": [
    {
     "data": {
      "text/html": [
       "<style>\n",
       "        body{\n",
       "            font-size: 32px;\n",
       "        }\n",
       "    "
      ],
      "text/plain": [
       "<IPython.core.display.HTML object>"
      ]
     },
     "metadata": {},
     "output_type": "display_data"
    },
    {
     "data": {
      "text/html": [
       "<style>\n",
       "        body{\n",
       "            font-size: 32px;\n",
       "        }\n",
       "    "
      ],
      "text/plain": [
       "<IPython.core.display.HTML object>"
      ]
     },
     "metadata": {},
     "output_type": "display_data"
    },
    {
     "name": "stdout",
     "output_type": "stream",
     "text": [
      "Generation  0\n",
      "CATGATCTACGTTACTGCTCCCGTCTTGAATCCATGCTTTTTAAGCAG  fitness:3978000.0\n",
      "Generation  1\n",
      "CATGATCTAGCTTACTGCTCCCGTCTTGAATCCATGCGATTTAAGCAG  fitness:4413588.8671875\n",
      "Generation  2\n",
      "CTAGATCGAGCTTACTGCTCCCGTCTTGAATGCATGCGATTAAAGCAG  fitness:5021683.333333334\n",
      "Generation  3\n",
      "CTAGATCGAGCTTACTGCTCCGGTCTTGAATGCATGCGATTAAGGCAG  fitness:4988888.3701292435\n",
      "Generation  4\n",
      "CTAGATCGAGCTAAGTCCTCCAGTCTTGAATGCATGCGATTAAGGCAG  fitness:5126301.73611111\n",
      "Generation  5\n",
      "CTAGATCGAGCTAATCCCTCCAGTCTTGAATGCATGCGATTAAGGCAG  fitness:5230920.138888888\n",
      "Generation  6\n",
      "CTAGATCGAGCTTATCCCTCCAGTCTTGAATGCATGCGATTAAGGCAG  fitness:5126301.736111111\n",
      "Generation  7\n",
      "CTAGATCGAGCTTATCCCTCACGTCTTGAATGCATGCGATTAAGGCAG  fitness:5023775.701388889\n",
      "Generation  8\n",
      "CTAGATCGAGCTTATCCCTCACGTCTTGAATGCATGCGATTAACGCAG  fitness:4846685.277777778\n",
      "Generation  9\n",
      "CTAGATCGAGCTTATCGCTCACGTCTTGAATGCATGCGATTAACGCAG  fitness:4921249.666666668\n",
      "Generation  10\n",
      "CTAGATCGAGCTTATCGCTCACGTCTTGAATGCATGCGATTAGCGCAG  fitness:4720382.333333334\n",
      "Generation  11\n",
      "CTAGATCGACGTTGTCGCTCACGTCTTGAATGCATGCGATTAGCGCAG  fitness:4553986.666666666\n",
      "Generation  12\n",
      "CTAGATCGACGTTGTCGCTCACGTCTTAAATGCATGCGATTAGCGCAG  fitness:4527713.666666668\n",
      "Generation  13\n",
      "CTAGATCGACGTTGACGATCACGTGTTTAATGCATGCGATTAGCGCAG  fitness:4366213.778935185\n",
      "Generation  14\n",
      "CTAGACTGACGTTGACGATCACGTGTATAATGCATGCGATTAGCGCAG  fitness:4251711.388888888\n",
      "Generation  15\n",
      "CTAGACTGACGTTGACGATCACGTGTATAATGCATGCGATTAGCGCAG  fitness:4251711.388888888\n",
      "Generation  16\n",
      "CTAGACTGACGTTGACGATCACGTGTATAATGCATGCGATTAGCGCAG  fitness:4251711.388888888\n",
      "Generation  17\n",
      "CTAGACTGACGTTGACGATCACGTGGTTACTGCATGCGATTAGCGCAG  fitness:4272832.666666666\n",
      "Generation  18\n",
      "CTAGACTGACGTTGACAGTCACGTGGTCACTGCATGCGATTAGCGCAG  fitness:4352450.666666668\n",
      "Generation  19\n",
      "CTAGATCGACGTTGACAGTCACGTAGTCACTGACTGCGATATCGGCAG  fitness:4917064.930555555\n",
      "Generation  20\n",
      "CTAGACTGACGTTGACAGTCACGTAGTCACTGACTGCGATATCGTCAG  fitness:5292000.0\n",
      "Generation  21\n",
      "CTAGACTGACGTTGACAGTCACTGAGTCACTGACTGCGATATCGTCAG  fitness:5527200.0\n",
      "Generation  22\n",
      "CTAGACTGACGTTGACAGCTACTGAGTCACTGACTGCGATATCGTCAG  fitness:5296900.0\n",
      "Generation  23\n",
      "CTAGACTGACGTTGACAGCTACTGAGTCACTGACTGCGATATCGTCAG  fitness:5296900.0\n",
      "Generation  24\n",
      "CTAGACTGACGTTGACAGCTACTGAGCTACTGACTGCGATATCGTCAG  fitness:5066600.0\n",
      "Generation  25\n",
      "CTAGACTGACGTTGACAGCTACTGAGCTACTGACTGCGATATCGTCAG  fitness:5066600.0\n",
      "Generation  26\n",
      "CTAGACTGACGTTGACAGCTACTGAGCTACTGACTGCGATATCGCTAG  fitness:5412050.0\n",
      "Generation  27\n",
      "CTAGACTGACGTTGACAGCTACTGAGCTACTGACTGCGATATCGCTAG  fitness:5412050.0\n",
      "Generation  28\n",
      "CTGACAGTACGTTGACAGCTACGTAGTCACTGACTGCGATATCGCTAG  fitness:5522500.0\n",
      "Generation  29\n",
      "CTGACAGTACGTTGACAGCTACGTAGTCACTGACTGCGATATCGCTAG  fitness:5522500.0\n"
     ]
    }
   ],
   "source": [
    "p = population()\n",
    "for i in range(0, 30):\n",
    "    print('Generation ', i)\n",
    "    p.the_pop[0].mutation()\n",
    "    p.the_pop[0].print()"
   ]
  },
  {
   "cell_type": "code",
   "execution_count": 120,
   "metadata": {
    "id": "dMfBpRWakKXG",
    "scrolled": true
   },
   "outputs": [
    {
     "data": {
      "text/html": [
       "<style>\n",
       "        body{\n",
       "            font-size: 32px;\n",
       "        }\n",
       "    "
      ],
      "text/plain": [
       "<IPython.core.display.HTML object>"
      ]
     },
     "metadata": {},
     "output_type": "display_data"
    },
    {
     "data": {
      "text/html": [
       "<style>\n",
       "        body{\n",
       "            font-size: 32px;\n",
       "        }\n",
       "    "
      ],
      "text/plain": [
       "<IPython.core.display.HTML object>"
      ]
     },
     "metadata": {},
     "output_type": "display_data"
    },
    {
     "name": "stdout",
     "output_type": "stream",
     "text": [
      "General, General, Population 1, Population 1, Population 1, Population 1, Population 2, Population 2, Population 2, Population 2\n",
      "Generation number, Time since diverging, Averge fitness, Most fit genome, Most fit fitness, Worst fit genome, Average fitness, Most fit genome, Most fit fitness, Worst fit genome\n",
      "20000, 20001, 8771571.00000, CATGCATGCTGACTGACTGACTGACTGACTGACTGACATGCATGCATG, 8817984.00000, CATGCATGCTGACTGACTGACTGACTGACTGACTGACATGCATGCTAG, 8771571.00000, CATGCATGCTGACTGACTGACTGACTGACTGACTGACATGCATGCATG, 8817984.00000, CATGCATGCTGACTGACTGACTGACTGACTGACTGACATGCATGCTAG\n"
     ]
    }
   ],
   "source": [
    "# Export data to csv\n",
    "p = population()\n",
    "print('General, General, Population 1, Population 1, Population 1, Population 1, Population 2, Population 2, Population 2, Population 2')\n",
    "print('Generation number, Time since diverging, Averge fitness, Most fit genome, Most fit fitness, Worst fit genome, Average fitness, Most fit genome, Most fit fitness, Worst fit genome')\n",
    "for i in range(0, 20000):\n",
    "    p.generational()\n",
    "print('%d, %d, %.5f, %s, %.5f, %s, %.5f, %s, %.5f, %s' % (p.generation, p.generation - p.gen_diverged, p.avg_fitness, ''.join(p.best.genome), p.best.fitness, ''.join(p.worst.genome), p.avg_fitness, ''.join(p.best.genome), p.best.fitness, ''.join(p.worst.genome)))"
   ]
  },
  {
   "cell_type": "code",
   "execution_count": 115,
   "metadata": {},
   "outputs": [
    {
     "data": {
      "text/html": [
       "<style>\n",
       "        body{\n",
       "            font-size: 32px;\n",
       "        }\n",
       "    "
      ],
      "text/plain": [
       "<IPython.core.display.HTML object>"
      ]
     },
     "metadata": {},
     "output_type": "display_data"
    },
    {
     "data": {
      "text/html": [
       "<style>\n",
       "        body{\n",
       "            font-size: 32px;\n",
       "        }\n",
       "    "
      ],
      "text/plain": [
       "<IPython.core.display.HTML object>"
      ]
     },
     "metadata": {},
     "output_type": "display_data"
    },
    {
     "data": {
      "text/plain": [
       "9834496.0"
      ]
     },
     "execution_count": 115,
     "metadata": {},
     "output_type": "execute_result"
    }
   ],
   "source": [
    "ind = individual(initial=list('GATCGATCGATCGATCGATCGATCGATCGATCGATCGATCGATCGATC'))\n",
    "ind.fitness"
   ]
  },
  {
   "cell_type": "code",
   "execution_count": null,
   "metadata": {},
   "outputs": [],
   "source": []
  }
 ],
 "metadata": {
  "colab": {
   "provenance": []
  },
  "kernelspec": {
   "display_name": "Python 3 (ipykernel)",
   "language": "python",
   "name": "python3"
  },
  "language_info": {
   "codemirror_mode": {
    "name": "ipython",
    "version": 3
   },
   "file_extension": ".py",
   "mimetype": "text/x-python",
   "name": "python",
   "nbconvert_exporter": "python",
   "pygments_lexer": "ipython3",
   "version": "3.8.15"
  }
 },
 "nbformat": 4,
 "nbformat_minor": 1
}
