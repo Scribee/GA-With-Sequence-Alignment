{
 "cells": [
  {
   "cell_type": "code",
   "execution_count": 5,
   "metadata": {
    "id": "m7yehaAK-uPh"
   },
   "outputs": [
    {
     "data": {
      "text/html": [
       "<style>\n",
       "        body{\n",
       "            font-size: 32px;\n",
       "        }\n",
       "    "
      ],
      "text/plain": [
       "<IPython.core.display.HTML object>"
      ]
     },
     "metadata": {},
     "output_type": "display_data"
    },
    {
     "data": {
      "text/html": [
       "<style>\n",
       "        body{\n",
       "            font-size: 32px;\n",
       "        }\n",
       "    "
      ],
      "text/plain": [
       "<IPython.core.display.HTML object>"
      ]
     },
     "metadata": {},
     "output_type": "display_data"
    },
    {
     "data": {
      "text/html": [
       "<style>\n",
       "        body{\n",
       "            font-size: 32px;\n",
       "        }\n",
       "    "
      ],
      "text/plain": [
       "<IPython.core.display.HTML object>"
      ]
     },
     "metadata": {},
     "output_type": "display_data"
    }
   ],
   "source": [
    "from IPython.display import HTML\n",
    "shell = get_ipython()\n",
    "\n",
    "def adjust_font_size():\n",
    "    display(HTML('''<style>\n",
    "        body{\n",
    "            font-size: 32px;\n",
    "        }\n",
    "    '''))\n",
    "\n",
    "if adjust_font_size not in shell.events.callbacks['pre_execute']:\n",
    "    shell.events.register('pre_execute', adjust_font_size)"
   ]
  },
  {
   "cell_type": "code",
   "execution_count": 6,
   "metadata": {
    "colab": {
     "base_uri": "https://localhost:8080/",
     "height": 17
    },
    "id": "WDCFewIdDxaJ",
    "outputId": "89270116-c5aa-4124-9bed-395d979c1623"
   },
   "outputs": [
    {
     "data": {
      "text/html": [
       "<style>\n",
       "        body{\n",
       "            font-size: 32px;\n",
       "        }\n",
       "    "
      ],
      "text/plain": [
       "<IPython.core.display.HTML object>"
      ]
     },
     "metadata": {},
     "output_type": "display_data"
    },
    {
     "data": {
      "text/html": [
       "<style>\n",
       "        body{\n",
       "            font-size: 32px;\n",
       "        }\n",
       "    "
      ],
      "text/plain": [
       "<IPython.core.display.HTML object>"
      ]
     },
     "metadata": {},
     "output_type": "display_data"
    },
    {
     "data": {
      "text/html": [
       "<style>\n",
       "        body{\n",
       "            font-size: 32px;\n",
       "        }\n",
       "    "
      ],
      "text/plain": [
       "<IPython.core.display.HTML object>"
      ]
     },
     "metadata": {},
     "output_type": "display_data"
    },
    {
     "data": {
      "text/html": [
       "<style>\n",
       "        body{\n",
       "            font-size: 32px;\n",
       "        }\n",
       "    "
      ],
      "text/plain": [
       "<IPython.core.display.HTML object>"
      ]
     },
     "metadata": {},
     "output_type": "display_data"
    }
   ],
   "source": [
    "def printmatrix(m,pad = 4): \n",
    "    for r in m:\n",
    "        for d in r:\n",
    "            print(f\"{str(d):>{pad}}\", end = \" \")\n",
    "        print()"
   ]
  },
  {
   "cell_type": "code",
   "execution_count": 7,
   "metadata": {
    "colab": {
     "base_uri": "https://localhost:8080/",
     "height": 672
    },
    "id": "uUucbDBk-vQZ",
    "outputId": "184b267c-e98a-48cc-bc10-f5db50b3cdad"
   },
   "outputs": [
    {
     "data": {
      "text/html": [
       "<style>\n",
       "        body{\n",
       "            font-size: 32px;\n",
       "        }\n",
       "    "
      ],
      "text/plain": [
       "<IPython.core.display.HTML object>"
      ]
     },
     "metadata": {},
     "output_type": "display_data"
    },
    {
     "data": {
      "text/html": [
       "<style>\n",
       "        body{\n",
       "            font-size: 32px;\n",
       "        }\n",
       "    "
      ],
      "text/plain": [
       "<IPython.core.display.HTML object>"
      ]
     },
     "metadata": {},
     "output_type": "display_data"
    },
    {
     "data": {
      "text/html": [
       "<style>\n",
       "        body{\n",
       "            font-size: 32px;\n",
       "        }\n",
       "    "
      ],
      "text/plain": [
       "<IPython.core.display.HTML object>"
      ]
     },
     "metadata": {},
     "output_type": "display_data"
    },
    {
     "data": {
      "text/html": [
       "<style>\n",
       "        body{\n",
       "            font-size: 32px;\n",
       "        }\n",
       "    "
      ],
      "text/plain": [
       "<IPython.core.display.HTML object>"
      ]
     },
     "metadata": {},
     "output_type": "display_data"
    },
    {
     "name": "stdout",
     "output_type": "stream",
     "text": [
      "[[0, 0, 0, 0, 0, 0, 0, 0, 0, 0], [0, 0, 0, 0, 0, 0, 0, 0, 0, 0], [0, 0, 0, 0, 0, 0, 0, 0, 0, 0], [0, 0, 0, 0, 0, 0, 0, 0, 0, 0], [0, 0, 0, 0, 0, 0, 0, 0, 0, 0], [0, 0, 0, 0, 0, 0, 0, 0, 0, 0], [0, 0, 0, 0, 0, 0, 0, 0, 0, 0], [0, 0, 0, 0, 0, 0, 0, 0, 0, 0], [0, 0, 0, 0, 0, 0, 0, 0, 0, 0], [0, 0, 0, 0, 0, 0, 0, 0, 0, 0], [0, 0, 0, 0, 0, 0, 0, 0, 0, 0], [0, 0, 0, 0, 0, 0, 0, 0, 0, 0], [0, 0, 0, 0, 0, 0, 0, 0, 0, 0], [0, 0, 0, 0, 0, 0, 0, 0, 0, 0]]\n",
      "[[0, 77, 0, 0, 0, 0, 0, 0, 0, 0], [0, 0, 0, 0, 0, 0, 0, 0, 0, 0], [0, 0, 0, 0, 0, 0, 0, 0, 0, 0], [0, 0, 0, 0, 0, 0, 0, 0, 0, 0], [0, 0, 0, 0, 0, 0, 0, 0, 0, 0], [0, 0, 0, 0, 0, 0, 0, 0, 0, 0], [0, 0, 0, 0, 0, 0, 0, 0, 0, 0], [0, 0, 0, 0, 0, 0, 0, 0, 0, 0], [0, 0, 0, 0, 0, 0, 0, 0, 0, 0], [0, 0, 0, 0, 0, 0, 0, 0, 0, 0], [0, 0, 0, 0, 0, 0, 0, 0, 0, 0], [0, 0, 0, 0, 0, 0, 0, 0, 0, 0], [0, 0, 0, 0, 0, 0, 0, 0, 0, 0], [0, 0, 0, 0, 0, 0, 0, 0, 0, 0]]\n",
      "   0   77    0    0    0    0    0    0    0    0 \n",
      "   0    0    0    0    0    0    0    0    0    0 \n",
      "   0    0    0    0    0    0    0    0    0    0 \n",
      "   0    0    0    0    0    0    0    0    0    0 \n",
      "   0    0    0    0    0    0    0    0    0    0 \n",
      "   0    0    0    0    0    0    0    0    0    0 \n",
      "   0    0    0    0    0    0    0    0    0    0 \n",
      "   0    0    0    0    0    0    0    0    0    0 \n",
      "   0    0    0    0    0    0    0    0    0    0 \n",
      "   0    0    0    0    0    0    0    0    0    0 \n",
      "   0    0    0    0    0    0    0    0    0    0 \n",
      "   0    0    0    0    0    0    0    0    0    0 \n",
      "   0    0    0    0    0    0    0    0    0    0 \n",
      "   0    0    0    0    0    0    0    0    0    0 \n"
     ]
    }
   ],
   "source": [
    "seq1 = \"TTAGCCAGT\"\n",
    "seq2 = \"TAAGACATTTTAC\"\n",
    "gappenalty = -8\n",
    "scoringmatrix = [[00 for i in range(0,len(seq1)+1)] for j in range(0,len(seq2)+1)]\n",
    "directionmatrix = [[\".\" for i in range(0,len(seq1)+1)] for j in range(0,len(seq2)+1)]\n",
    "print(scoringmatrix)\n",
    "scoringmatrix[0][1] = 77\n",
    "print(scoringmatrix)\n",
    "printmatrix(scoringmatrix)"
   ]
  },
  {
   "cell_type": "code",
   "execution_count": 8,
   "metadata": {
    "colab": {
     "base_uri": "https://localhost:8080/",
     "height": 652
    },
    "id": "QJhREFFbF1KI",
    "outputId": "210079fd-7a34-49e3-9ead-d5e7fde4b818"
   },
   "outputs": [
    {
     "data": {
      "text/html": [
       "<style>\n",
       "        body{\n",
       "            font-size: 32px;\n",
       "        }\n",
       "    "
      ],
      "text/plain": [
       "<IPython.core.display.HTML object>"
      ]
     },
     "metadata": {},
     "output_type": "display_data"
    },
    {
     "data": {
      "text/html": [
       "<style>\n",
       "        body{\n",
       "            font-size: 32px;\n",
       "        }\n",
       "    "
      ],
      "text/plain": [
       "<IPython.core.display.HTML object>"
      ]
     },
     "metadata": {},
     "output_type": "display_data"
    },
    {
     "data": {
      "text/html": [
       "<style>\n",
       "        body{\n",
       "            font-size: 32px;\n",
       "        }\n",
       "    "
      ],
      "text/plain": [
       "<IPython.core.display.HTML object>"
      ]
     },
     "metadata": {},
     "output_type": "display_data"
    },
    {
     "data": {
      "text/html": [
       "<style>\n",
       "        body{\n",
       "            font-size: 32px;\n",
       "        }\n",
       "    "
      ],
      "text/plain": [
       "<IPython.core.display.HTML object>"
      ]
     },
     "metadata": {},
     "output_type": "display_data"
    },
    {
     "name": "stdout",
     "output_type": "stream",
     "text": [
      "   0   -8  -16  -24  -32  -40  -48  -56  -64  -72 \n",
      "  -8   10    2   -6  -14  -22  -30  -38  -46  -54 \n",
      " -16    2    0   12    4   -4  -12  -20  -28  -36 \n",
      " -24   -6   -8   10    2   -6  -14   -2  -10  -18 \n",
      " -32  -14  -16    2   20   12    4   -4    8    0 \n",
      " -40  -22  -24   -6   12   10    2   14    6   -2 \n",
      " -48  -30  -32  -14    4   22   20   12    4   -4 \n",
      " -56  -38  -40  -22   -4   14   12   30   22   14 \n",
      " -64  -46  -28  -30  -12    6    4   22   20   32 \n",
      " -72  -54  -36  -38  -20   -2   -4   14   12   30 \n",
      " -80  -62  -44  -46  -28  -10  -12    6    4   22 \n",
      " -88  -70  -52  -54  -36  -18  -20   -2   -4   14 \n",
      " -96  -78  -60  -42  -44  -26  -28  -10  -12    6 \n",
      "-104  -86  -68  -50  -52  -34  -16  -18  -20   -2 \n",
      "TTAGCCAGT\n",
      "TAAGACATTTTAC\n"
     ]
    }
   ],
   "source": [
    "for i in range(0,len(scoringmatrix[0])):\n",
    "    scoringmatrix[0][i] =  i*gappenalty\n",
    "    directionmatrix[0][i] = \"h \"\n",
    "for i in range(0,len(scoringmatrix)):\n",
    "    scoringmatrix[i][0] = i*gappenalty\n",
    "    directionmatrix[i][0]  = \"v \"\n",
    "\n",
    "for r in range(1,len(scoringmatrix)):\n",
    "    for c in range(1,len(scoringmatrix[r])):\n",
    "        vert = scoringmatrix[r-1][c] + gappenalty\n",
    "        horz = scoringmatrix[r][c-1] + gappenalty\n",
    "        diag = scoringmatrix[r-1][c-1]\n",
    "        if(seq1[c-1] == seq2[r-1]):\n",
    "            diag += 10\n",
    "        else:\n",
    "            diag -= 10\n",
    "        scoringmatrix[r][c] = max(vert,horz,diag)\n",
    "        #directionmatrix[r][c] = \"v or h or d\"\n",
    "        if diag >= horz and diag >= vert:\n",
    "            directionmatrix[r][c] = \"\\u2196\"\n",
    "        if horz > diag and horz > vert:\n",
    "            directionmatrix[r][c] = \"\\u2190\"\n",
    "        if vert > diag and vert > horz:\n",
    "            directionmatrix[r][c] = \"\\u2191\"\n",
    "\n",
    "printmatrix(scoringmatrix,4)\n",
    "print(seq1)\n",
    "print(seq2)\n"
   ]
  },
  {
   "cell_type": "code",
   "execution_count": 9,
   "metadata": {
    "id": "ZH8xr1qweT8L"
   },
   "outputs": [
    {
     "data": {
      "text/html": [
       "<style>\n",
       "        body{\n",
       "            font-size: 32px;\n",
       "        }\n",
       "    "
      ],
      "text/plain": [
       "<IPython.core.display.HTML object>"
      ]
     },
     "metadata": {},
     "output_type": "display_data"
    },
    {
     "data": {
      "text/html": [
       "<style>\n",
       "        body{\n",
       "            font-size: 32px;\n",
       "        }\n",
       "    "
      ],
      "text/plain": [
       "<IPython.core.display.HTML object>"
      ]
     },
     "metadata": {},
     "output_type": "display_data"
    },
    {
     "data": {
      "text/html": [
       "<style>\n",
       "        body{\n",
       "            font-size: 32px;\n",
       "        }\n",
       "    "
      ],
      "text/plain": [
       "<IPython.core.display.HTML object>"
      ]
     },
     "metadata": {},
     "output_type": "display_data"
    },
    {
     "data": {
      "text/html": [
       "<style>\n",
       "        body{\n",
       "            font-size: 32px;\n",
       "        }\n",
       "    "
      ],
      "text/plain": [
       "<IPython.core.display.HTML object>"
      ]
     },
     "metadata": {},
     "output_type": "display_data"
    },
    {
     "ename": "NameError",
     "evalue": "name 'TG' is not defined",
     "output_type": "error",
     "traceback": [
      "\u001b[1;31m---------------------------------------------------------------------------\u001b[0m",
      "\u001b[1;31mNameError\u001b[0m                                 Traceback (most recent call last)",
      "Cell \u001b[1;32mIn[9], line 1\u001b[0m\n\u001b[1;32m----> 1\u001b[0m \u001b[38;5;241m-\u001b[39m\u001b[38;5;241m-\u001b[39m\u001b[43mTG\u001b[49m\n\u001b[0;32m      2\u001b[0m CATT\n",
      "\u001b[1;31mNameError\u001b[0m: name 'TG' is not defined"
     ]
    }
   ],
   "source": [
    "--TG\n",
    "CATT"
   ]
  },
  {
   "cell_type": "code",
   "execution_count": 14,
   "metadata": {
    "colab": {
     "base_uri": "https://localhost:8080/",
     "height": 572
    },
    "id": "-n6gw0n5Mh0D",
    "outputId": "dbe46f90-8eb8-4634-cf8f-8151da58b5c4"
   },
   "outputs": [
    {
     "data": {
      "text/html": [
       "<style>\n",
       "        body{\n",
       "            font-size: 32px;\n",
       "        }\n",
       "    "
      ],
      "text/plain": [
       "<IPython.core.display.HTML object>"
      ]
     },
     "metadata": {},
     "output_type": "display_data"
    },
    {
     "data": {
      "text/html": [
       "<style>\n",
       "        body{\n",
       "            font-size: 32px;\n",
       "        }\n",
       "    "
      ],
      "text/plain": [
       "<IPython.core.display.HTML object>"
      ]
     },
     "metadata": {},
     "output_type": "display_data"
    },
    {
     "data": {
      "text/html": [
       "<style>\n",
       "        body{\n",
       "            font-size: 32px;\n",
       "        }\n",
       "    "
      ],
      "text/plain": [
       "<IPython.core.display.HTML object>"
      ]
     },
     "metadata": {},
     "output_type": "display_data"
    },
    {
     "data": {
      "text/html": [
       "<style>\n",
       "        body{\n",
       "            font-size: 32px;\n",
       "        }\n",
       "    "
      ],
      "text/plain": [
       "<IPython.core.display.HTML object>"
      ]
     },
     "metadata": {},
     "output_type": "display_data"
    },
    {
     "name": "stdout",
     "output_type": "stream",
     "text": [
      "v  h  h  h  h  h  h  h  h  h  \n",
      "v  ↖ ↖ ← ← ← ← ← ← ↖ \n",
      "v  ↑ ↖ ↖ ← ← ← ↖ ← ← \n",
      "v  ↑ ↖ ↖ ↖ ↖ ↖ ↖ ← ← \n",
      "v  ↑ ↖ ↑ ↖ ← ← ← ↖ ← \n",
      "v  ↑ ↖ ↖ ↑ ↖ ↖ ↖ ← ↖ \n",
      "v  ↑ ↖ ↑ ↑ ↖ ↖ ← ↖ ↖ \n",
      "v  ↑ ↖ ↖ ↑ ↑ ↖ ↖ ← ← \n",
      "v  ↖ ↖ ↑ ↑ ↑ ↖ ↑ ↖ ↖ \n",
      "v  ↖ ↖ ↖ ↑ ↑ ↖ ↑ ↖ ↖ \n",
      "v  ↖ ↖ ↖ ↑ ↑ ↖ ↑ ↖ ↖ \n",
      "v  ↖ ↖ ↖ ↑ ↑ ↖ ↑ ↖ ↖ \n",
      "v  ↑ ↑ ↖ ↑ ↑ ↖ ↖ ↖ ↑ \n",
      "v  ↑ ↑ ↑ ↖ ↖ ↖ ↑ ↖ ↑ \n"
     ]
    }
   ],
   "source": [
    "printmatrix(directionmatrix,0)"
   ]
  },
  {
   "cell_type": "code",
   "execution_count": null,
   "metadata": {
    "id": "c5EcstDGeRzC"
   },
   "outputs": [],
   "source": []
  }
 ],
 "metadata": {
  "colab": {
   "provenance": []
  },
  "kernelspec": {
   "display_name": "Python 3 (ipykernel)",
   "language": "python",
   "name": "python3"
  },
  "language_info": {
   "codemirror_mode": {
    "name": "ipython",
    "version": 3
   },
   "file_extension": ".py",
   "mimetype": "text/x-python",
   "name": "python",
   "nbconvert_exporter": "python",
   "pygments_lexer": "ipython3",
   "version": "3.8.15"
  }
 },
 "nbformat": 4,
 "nbformat_minor": 1
}
