{
 "cells": [
  {
   "cell_type": "code",
   "execution_count": 184,
   "metadata": {
    "id": "m7yehaAK-uPh"
   },
   "outputs": [
    {
     "data": {
      "text/html": [
       "<style>\n",
       "        body{\n",
       "            font-size: 32px;\n",
       "        }\n",
       "    "
      ],
      "text/plain": [
       "<IPython.core.display.HTML object>"
      ]
     },
     "metadata": {},
     "output_type": "display_data"
    },
    {
     "data": {
      "text/html": [
       "<style>\n",
       "        body{\n",
       "            font-size: 32px;\n",
       "        }\n",
       "    "
      ],
      "text/plain": [
       "<IPython.core.display.HTML object>"
      ]
     },
     "metadata": {},
     "output_type": "display_data"
    },
    {
     "data": {
      "text/html": [
       "<style>\n",
       "        body{\n",
       "            font-size: 32px;\n",
       "        }\n",
       "    "
      ],
      "text/plain": [
       "<IPython.core.display.HTML object>"
      ]
     },
     "metadata": {},
     "output_type": "display_data"
    }
   ],
   "source": [
    "from IPython.display import HTML\n",
    "import numpy as np\n",
    "import copy\n",
    "\n",
    "shell = get_ipython()\n",
    "\n",
    "def adjust_font_size():\n",
    "    display(HTML('''<style>\n",
    "        body{\n",
    "            font-size: 32px;\n",
    "        }\n",
    "    '''))\n",
    "\n",
    "if adjust_font_size not in shell.events.callbacks['pre_execute']:\n",
    "    shell.events.register('pre_execute', adjust_font_size)"
   ]
  },
  {
   "cell_type": "code",
   "execution_count": 216,
   "metadata": {
    "colab": {
     "base_uri": "https://localhost:8080/",
     "height": 17
    },
    "id": "WDCFewIdDxaJ",
    "outputId": "89270116-c5aa-4124-9bed-395d979c1623"
   },
   "outputs": [
    {
     "data": {
      "text/html": [
       "<style>\n",
       "        body{\n",
       "            font-size: 32px;\n",
       "        }\n",
       "    "
      ],
      "text/plain": [
       "<IPython.core.display.HTML object>"
      ]
     },
     "metadata": {},
     "output_type": "display_data"
    },
    {
     "data": {
      "text/html": [
       "<style>\n",
       "        body{\n",
       "            font-size: 32px;\n",
       "        }\n",
       "    "
      ],
      "text/plain": [
       "<IPython.core.display.HTML object>"
      ]
     },
     "metadata": {},
     "output_type": "display_data"
    },
    {
     "data": {
      "text/html": [
       "<style>\n",
       "        body{\n",
       "            font-size: 32px;\n",
       "        }\n",
       "    "
      ],
      "text/plain": [
       "<IPython.core.display.HTML object>"
      ]
     },
     "metadata": {},
     "output_type": "display_data"
    },
    {
     "data": {
      "text/html": [
       "<style>\n",
       "        body{\n",
       "            font-size: 32px;\n",
       "        }\n",
       "    "
      ],
      "text/plain": [
       "<IPython.core.display.HTML object>"
      ]
     },
     "metadata": {},
     "output_type": "display_data"
    }
   ],
   "source": [
    "def printmatrix(m, pad = 4):\n",
    "    # Make column labels across the top of the matrix\n",
    "    for i in range(0, len(m[0]) + 1):\n",
    "        print(f'{i:>{pad}}', end = '')\n",
    "        \n",
    "    print()\n",
    "    row = 0\n",
    "    for r in m:\n",
    "        # Print labels for each row\n",
    "        row += 1\n",
    "        print(f'{str(row):>{pad}}', end = '')\n",
    "        \n",
    "        for d in r:\n",
    "            print(f'{str(d):>{pad}}', end = '')\n",
    "        print()"
   ]
  },
  {
   "cell_type": "code",
   "execution_count": 29,
   "metadata": {
    "colab": {
     "base_uri": "https://localhost:8080/",
     "height": 672
    },
    "id": "uUucbDBk-vQZ",
    "outputId": "184b267c-e98a-48cc-bc10-f5db50b3cdad"
   },
   "outputs": [
    {
     "data": {
      "text/html": [
       "<style>\n",
       "        body{\n",
       "            font-size: 32px;\n",
       "        }\n",
       "    "
      ],
      "text/plain": [
       "<IPython.core.display.HTML object>"
      ]
     },
     "metadata": {},
     "output_type": "display_data"
    },
    {
     "data": {
      "text/plain": [
       "'seq1 = \"TTAGCCAGT\"\\nseq2 = \"TAAGACATTTTAC\"\\ngappenalty = -8\\nscoringmatrix = [[0 for i in range(0, len(seq1) + 1)] for j in range(0, len(seq2) + 1)]\\ndirectionmatrix = [[\".\" for i in range(0, len(seq1) + 1)] for j in range(0, len(seq2) + 1)]\\nprint(scoringmatrix)\\nscoringmatrix[0][1] = 77\\nprint(scoringmatrix)\\nprintmatrix(scoringmatrix)'"
      ]
     },
     "execution_count": 29,
     "metadata": {},
     "output_type": "execute_result"
    }
   ],
   "source": [
    "'''seq1 = \"TTAGCCAGT\"\n",
    "seq2 = \"TAAGACATTTTAC\"\n",
    "gappenalty = -8\n",
    "scoringmatrix = [[0 for i in range(0, len(seq1) + 1)] for j in range(0, len(seq2) + 1)]\n",
    "directionmatrix = [[\".\" for i in range(0, len(seq1) + 1)] for j in range(0, len(seq2) + 1)]\n",
    "print(scoringmatrix)\n",
    "scoringmatrix[0][1] = 77\n",
    "print(scoringmatrix)\n",
    "printmatrix(scoringmatrix)'''"
   ]
  },
  {
   "cell_type": "code",
   "execution_count": 28,
   "metadata": {
    "colab": {
     "base_uri": "https://localhost:8080/",
     "height": 652
    },
    "id": "QJhREFFbF1KI",
    "outputId": "210079fd-7a34-49e3-9ead-d5e7fde4b818"
   },
   "outputs": [
    {
     "data": {
      "text/html": [
       "<style>\n",
       "        body{\n",
       "            font-size: 32px;\n",
       "        }\n",
       "    "
      ],
      "text/plain": [
       "<IPython.core.display.HTML object>"
      ]
     },
     "metadata": {},
     "output_type": "display_data"
    },
    {
     "data": {
      "text/plain": [
       "'\\n\\nprintmatrix(scoringmatrix, 4)\\nprint(seq1)\\nprint(seq2)\\n'"
      ]
     },
     "execution_count": 28,
     "metadata": {},
     "output_type": "execute_result"
    }
   ],
   "source": [
    "'''\n",
    "\n",
    "printmatrix(scoringmatrix, 4)\n",
    "print(seq1)\n",
    "print(seq2)\n",
    "'''"
   ]
  },
  {
   "cell_type": "code",
   "execution_count": 9,
   "metadata": {
    "id": "ZH8xr1qweT8L"
   },
   "outputs": [
    {
     "data": {
      "text/html": [
       "<style>\n",
       "        body{\n",
       "            font-size: 32px;\n",
       "        }\n",
       "    "
      ],
      "text/plain": [
       "<IPython.core.display.HTML object>"
      ]
     },
     "metadata": {},
     "output_type": "display_data"
    },
    {
     "data": {
      "text/html": [
       "<style>\n",
       "        body{\n",
       "            font-size: 32px;\n",
       "        }\n",
       "    "
      ],
      "text/plain": [
       "<IPython.core.display.HTML object>"
      ]
     },
     "metadata": {},
     "output_type": "display_data"
    },
    {
     "data": {
      "text/html": [
       "<style>\n",
       "        body{\n",
       "            font-size: 32px;\n",
       "        }\n",
       "    "
      ],
      "text/plain": [
       "<IPython.core.display.HTML object>"
      ]
     },
     "metadata": {},
     "output_type": "display_data"
    },
    {
     "data": {
      "text/html": [
       "<style>\n",
       "        body{\n",
       "            font-size: 32px;\n",
       "        }\n",
       "    "
      ],
      "text/plain": [
       "<IPython.core.display.HTML object>"
      ]
     },
     "metadata": {},
     "output_type": "display_data"
    },
    {
     "ename": "NameError",
     "evalue": "name 'TG' is not defined",
     "output_type": "error",
     "traceback": [
      "\u001b[1;31m---------------------------------------------------------------------------\u001b[0m",
      "\u001b[1;31mNameError\u001b[0m                                 Traceback (most recent call last)",
      "Cell \u001b[1;32mIn[9], line 1\u001b[0m\n\u001b[1;32m----> 1\u001b[0m \u001b[38;5;241m-\u001b[39m\u001b[38;5;241m-\u001b[39m\u001b[43mTG\u001b[49m\n\u001b[0;32m      2\u001b[0m CATT\n",
      "\u001b[1;31mNameError\u001b[0m: name 'TG' is not defined"
     ]
    }
   ],
   "source": [
    "--TG\n",
    "CATT"
   ]
  },
  {
   "cell_type": "code",
   "execution_count": 12,
   "metadata": {
    "colab": {
     "base_uri": "https://localhost:8080/",
     "height": 572
    },
    "id": "-n6gw0n5Mh0D",
    "outputId": "dbe46f90-8eb8-4634-cf8f-8151da58b5c4"
   },
   "outputs": [
    {
     "data": {
      "text/html": [
       "<style>\n",
       "        body{\n",
       "            font-size: 32px;\n",
       "        }\n",
       "    "
      ],
      "text/plain": [
       "<IPython.core.display.HTML object>"
      ]
     },
     "metadata": {},
     "output_type": "display_data"
    },
    {
     "name": "stdout",
     "output_type": "stream",
     "text": [
      "v  h  h  h  h  h  h  h  h  h  \n",
      "v  ↖ ↖ ← ← ← ← ← ← ↖ \n",
      "v  ↑ ↖ ↖ ← ← ← ↖ ← ← \n",
      "v  ↑ ↖ ↖ ↖ ↖ ↖ ↖ ← ← \n",
      "v  ↑ ↖ ↑ ↖ ← ← ← ↖ ← \n",
      "v  ↑ ↖ ↖ ↑ ↖ ↖ ↖ ← ↖ \n",
      "v  ↑ ↖ ↑ ↑ ↖ ↖ ← ↖ ↖ \n",
      "v  ↑ ↖ ↖ ↑ ↑ ↖ ↖ ← ← \n",
      "v  ↖ ↖ ↑ ↑ ↑ ↖ ↑ ↖ ↖ \n",
      "v  ↖ ↖ ↖ ↑ ↑ ↖ ↑ ↖ ↖ \n",
      "v  ↖ ↖ ↖ ↑ ↑ ↖ ↑ ↖ ↖ \n",
      "v  ↖ ↖ ↖ ↑ ↑ ↖ ↑ ↖ ↖ \n",
      "v  ↑ ↑ ↖ ↑ ↑ ↖ ↖ ↖ ↑ \n",
      "v  ↑ ↑ ↑ ↖ ↖ ↖ ↑ ↖ ↑ \n"
     ]
    }
   ],
   "source": [
    "printmatrix(directionmatrix, 1)"
   ]
  },
  {
   "cell_type": "code",
   "execution_count": 192,
   "metadata": {
    "id": "c5EcstDGeRzC"
   },
   "outputs": [
    {
     "data": {
      "text/html": [
       "<style>\n",
       "        body{\n",
       "            font-size: 32px;\n",
       "        }\n",
       "    "
      ],
      "text/plain": [
       "<IPython.core.display.HTML object>"
      ]
     },
     "metadata": {},
     "output_type": "display_data"
    },
    {
     "data": {
      "text/html": [
       "<style>\n",
       "        body{\n",
       "            font-size: 32px;\n",
       "        }\n",
       "    "
      ],
      "text/plain": [
       "<IPython.core.display.HTML object>"
      ]
     },
     "metadata": {},
     "output_type": "display_data"
    },
    {
     "data": {
      "text/html": [
       "<style>\n",
       "        body{\n",
       "            font-size: 32px;\n",
       "        }\n",
       "    "
      ],
      "text/plain": [
       "<IPython.core.display.HTML object>"
      ]
     },
     "metadata": {},
     "output_type": "display_data"
    },
    {
     "data": {
      "text/html": [
       "<style>\n",
       "        body{\n",
       "            font-size: 32px;\n",
       "        }\n",
       "    "
      ],
      "text/plain": [
       "<IPython.core.display.HTML object>"
      ]
     },
     "metadata": {},
     "output_type": "display_data"
    }
   ],
   "source": [
    "def get_sequences():\n",
    "    '''\n",
    "    Returns the sequences extracted from both population files.\n",
    "    '''\n",
    "    \n",
    "    f1 = open('pop1.txt', 'r')\n",
    "    f2 = open('pop2.txt', 'r')\n",
    "\n",
    "    p1 = get_array(f1)\n",
    "    p2 = get_array(f2)\n",
    "    l = np.ones_like(p1)\n",
    "    \n",
    "    for g, p in enumerate(p2):\n",
    "        for s in range(0, len(p2[g])):\n",
    "            p1[g].append(p2[g][s])\n",
    "            \n",
    "    l = np.insert(l, len(p2[0]), np.full((len(p2[0]), 1), 2), axis = 1)\n",
    "    \n",
    "    return p1, l.astype(int)\n",
    "\n",
    "def get_array(f):\n",
    "    '''\n",
    "    Extracts the sequences from a population file into a two dimensional list.\n",
    "    Returns list with shape = (generations, population size).\n",
    "    '''\n",
    "    \n",
    "    pop = []\n",
    "    gen = -1\n",
    "    for s in f:\n",
    "        if s[0] == 'P' or s[0] == '\\n':\n",
    "            pop.append([])\n",
    "            gen += 1\n",
    "            continue\n",
    "        pop[gen].append(s[:-1])\n",
    "    \n",
    "    return pop\n",
    "                      \n",
    "#print(get_sequences())"
   ]
  },
  {
   "cell_type": "code",
   "execution_count": 187,
   "metadata": {},
   "outputs": [
    {
     "data": {
      "text/html": [
       "<style>\n",
       "        body{\n",
       "            font-size: 32px;\n",
       "        }\n",
       "    "
      ],
      "text/plain": [
       "<IPython.core.display.HTML object>"
      ]
     },
     "metadata": {},
     "output_type": "display_data"
    },
    {
     "data": {
      "text/html": [
       "<style>\n",
       "        body{\n",
       "            font-size: 32px;\n",
       "        }\n",
       "    "
      ],
      "text/plain": [
       "<IPython.core.display.HTML object>"
      ]
     },
     "metadata": {},
     "output_type": "display_data"
    },
    {
     "data": {
      "text/html": [
       "<style>\n",
       "        body{\n",
       "            font-size: 32px;\n",
       "        }\n",
       "    "
      ],
      "text/plain": [
       "<IPython.core.display.HTML object>"
      ]
     },
     "metadata": {},
     "output_type": "display_data"
    },
    {
     "data": {
      "text/html": [
       "<style>\n",
       "        body{\n",
       "            font-size: 32px;\n",
       "        }\n",
       "    "
      ],
      "text/plain": [
       "<IPython.core.display.HTML object>"
      ]
     },
     "metadata": {},
     "output_type": "display_data"
    }
   ],
   "source": [
    "def analyze(seq1, seq2):\n",
    "    '''\n",
    "    Attempt to align the two given sequences and return the scoring matrix. The result of matched characters is \n",
    "    +10, for mismatched characters is -10, and the gap penalty is -8 points.\n",
    "    '''\n",
    "    \n",
    "    gappenalty = -8\n",
    "    \n",
    "    # Initialize scoring matrix\n",
    "    scoringmatrix = [[0 for i in range(0, len(seq1) + 1)] for j in range(0, len(seq2) + 1)]\n",
    "    \n",
    "    for i in range(0, len(scoringmatrix[0])):\n",
    "        scoringmatrix[0][i] =  i * gappenalty\n",
    "    for i in range(0, len(scoringmatrix)):\n",
    "        scoringmatrix[i][0] = i * gappenalty\n",
    "\n",
    "    # Populate scoring matrix for given sequences\n",
    "    for r in range(1, len(scoringmatrix)):\n",
    "        for c in range(1, len(scoringmatrix[0])):\n",
    "            # Check the score for moving in each direction\n",
    "            vert = scoringmatrix[r - 1][c] + gappenalty\n",
    "            horz = scoringmatrix[r][c - 1] + gappenalty\n",
    "            diag = scoringmatrix[r - 1][c - 1]\n",
    "            if (seq1[c - 1] == seq2[r - 1]):\n",
    "                diag += 10\n",
    "            else:\n",
    "                diag -= 10\n",
    "            # Assign the best direction score\n",
    "            scoringmatrix[r][c] = max(vert, horz, diag)\n",
    "            \n",
    "            #print(f'Index r: {r}, Index c: {c}, Last score: {scoringmatrix[r - 1][c - 1]}')\n",
    "            \n",
    "    return scoringmatrix[len(scoringmatrix) - 1][len(scoringmatrix[0]) - 1]"
   ]
  },
  {
   "cell_type": "code",
   "execution_count": 198,
   "metadata": {},
   "outputs": [
    {
     "data": {
      "text/html": [
       "<style>\n",
       "        body{\n",
       "            font-size: 32px;\n",
       "        }\n",
       "    "
      ],
      "text/plain": [
       "<IPython.core.display.HTML object>"
      ]
     },
     "metadata": {},
     "output_type": "display_data"
    },
    {
     "data": {
      "text/html": [
       "<style>\n",
       "        body{\n",
       "            font-size: 32px;\n",
       "        }\n",
       "    "
      ],
      "text/plain": [
       "<IPython.core.display.HTML object>"
      ]
     },
     "metadata": {},
     "output_type": "display_data"
    },
    {
     "data": {
      "text/html": [
       "<style>\n",
       "        body{\n",
       "            font-size: 32px;\n",
       "        }\n",
       "    "
      ],
      "text/plain": [
       "<IPython.core.display.HTML object>"
      ]
     },
     "metadata": {},
     "output_type": "display_data"
    },
    {
     "data": {
      "text/html": [
       "<style>\n",
       "        body{\n",
       "            font-size: 32px;\n",
       "        }\n",
       "    "
      ],
      "text/plain": [
       "<IPython.core.display.HTML object>"
      ]
     },
     "metadata": {},
     "output_type": "display_data"
    }
   ],
   "source": [
    "def compare(gen, p):\n",
    "    '''\n",
    "    Attempts to align each sequence in the given generation with every other sequence and returns a table of\n",
    "    each alignment score, and the median score.\n",
    "    '''\n",
    "    scores = np.zeros((len(p[gen]), len(p[gen]))).astype(int) # [[0 for i in range(0, len(p[gen]))] for j in range(0, len(p[gen]))]\n",
    "    l = []\n",
    "    \n",
    "    # Check each sequence against all the other sequences in the generation\n",
    "    for i, s in enumerate(p[gen]):\n",
    "        for j in range(i + 1, len(p[gen])):\n",
    "            #print(f'Comparing {t} to {s}')\n",
    "            scores[i][j] = analyze(s, p[gen][j])\n",
    "            scores[j][i] = scores[i][j] # the comparisons would be the same\n",
    "            l.append(scores[i][j])\n",
    "                \n",
    "    return scores, np.median(np.array(l))"
   ]
  },
  {
   "cell_type": "code",
   "execution_count": 223,
   "metadata": {},
   "outputs": [
    {
     "data": {
      "text/html": [
       "<style>\n",
       "        body{\n",
       "            font-size: 32px;\n",
       "        }\n",
       "    "
      ],
      "text/plain": [
       "<IPython.core.display.HTML object>"
      ]
     },
     "metadata": {},
     "output_type": "display_data"
    },
    {
     "data": {
      "text/html": [
       "<style>\n",
       "        body{\n",
       "            font-size: 32px;\n",
       "        }\n",
       "    "
      ],
      "text/plain": [
       "<IPython.core.display.HTML object>"
      ]
     },
     "metadata": {},
     "output_type": "display_data"
    },
    {
     "data": {
      "text/html": [
       "<style>\n",
       "        body{\n",
       "            font-size: 32px;\n",
       "        }\n",
       "    "
      ],
      "text/plain": [
       "<IPython.core.display.HTML object>"
      ]
     },
     "metadata": {},
     "output_type": "display_data"
    },
    {
     "data": {
      "text/html": [
       "<style>\n",
       "        body{\n",
       "            font-size: 32px;\n",
       "        }\n",
       "    "
      ],
      "text/plain": [
       "<IPython.core.display.HTML object>"
      ]
     },
     "metadata": {},
     "output_type": "display_data"
    }
   ],
   "source": [
    "def check_row(s, med, c, key = []):\n",
    "    make_key = key == []\n",
    "\n",
    "    for y in range(0, len(s)):\n",
    "        if s[c][y] == 0:\n",
    "            if make_key:\n",
    "                key.append(1)\n",
    "            # skip the diagonal for normal checking\n",
    "        elif s[c][y] > med:\n",
    "            if make_key:\n",
    "                key.append(1)\n",
    "            else:\n",
    "                s[c][y] = key[y]\n",
    "        else:\n",
    "            if make_key:\n",
    "                key.append(2)\n",
    "            else:\n",
    "                s[c][y] = 3 - key[y]  \n",
    "\n",
    "    return key\n",
    "    \n",
    "def predict(s, m, p):\n",
    "    '''\n",
    "    Predicts which group each individual belongs in, and returns an array with the final predictions.\n",
    "    '''\n",
    "        \n",
    "    key = check_row(s, m, p)\n",
    "    #print(key)\n",
    "    \n",
    "    for c in range(0, len(s)):\n",
    "        check_row(s, m, c, key)\n",
    "\n",
    "    #printmatrix(s, 3)\n",
    "    \n",
    "    return row_mode(s)\n",
    "\n",
    "def row_mode(s):\n",
    "    '''\n",
    "    Returns an array of shape (len(s), ) that has the mode of each row. Assumes labels of 1 or 2.\n",
    "    '''\n",
    "    \n",
    "    predictions = np.zeros((len(s), )).astype(int)\n",
    "\n",
    "    for r in range(0, len(s)):\n",
    "        count = 0\n",
    "        for c in range(0, len(s[0])):\n",
    "            if s[r][c] == 1:\n",
    "                count += 1\n",
    "        if count >= len(s) / 2:\n",
    "            predictions[r] = 1\n",
    "        else:\n",
    "            predictions[r] = 2\n",
    "            \n",
    "    return predictions\n",
    "\n",
    "def col_mode(s):\n",
    "    '''\n",
    "    Returns an array of shape (len(s), ) that has the mode of each column. Assumes labels of 1 or 2.\n",
    "    '''\n",
    "    \n",
    "    predictions = np.zeros((len(s[0]), )).astype(int)\n",
    "\n",
    "    for c in range(0, len(s[0])):\n",
    "        count = 0\n",
    "        for r in range(0, len(s)):\n",
    "            if s[r][c] == 1:\n",
    "                count += 1\n",
    "        if count >= (len(s) + 1) / 2:\n",
    "            predictions[c] = 1\n",
    "        else:\n",
    "            predictions[c] = 2\n",
    "            \n",
    "    return predictions"
   ]
  },
  {
   "cell_type": "code",
   "execution_count": 227,
   "metadata": {
    "scrolled": false
   },
   "outputs": [
    {
     "data": {
      "text/html": [
       "<style>\n",
       "        body{\n",
       "            font-size: 32px;\n",
       "        }\n",
       "    "
      ],
      "text/plain": [
       "<IPython.core.display.HTML object>"
      ]
     },
     "metadata": {},
     "output_type": "display_data"
    },
    {
     "data": {
      "text/html": [
       "<style>\n",
       "        body{\n",
       "            font-size: 32px;\n",
       "        }\n",
       "    "
      ],
      "text/plain": [
       "<IPython.core.display.HTML object>"
      ]
     },
     "metadata": {},
     "output_type": "display_data"
    },
    {
     "data": {
      "text/html": [
       "<style>\n",
       "        body{\n",
       "            font-size: 32px;\n",
       "        }\n",
       "    "
      ],
      "text/plain": [
       "<IPython.core.display.HTML object>"
      ]
     },
     "metadata": {},
     "output_type": "display_data"
    },
    {
     "data": {
      "text/html": [
       "<style>\n",
       "        body{\n",
       "            font-size: 32px;\n",
       "        }\n",
       "    "
      ],
      "text/plain": [
       "<IPython.core.display.HTML object>"
      ]
     },
     "metadata": {},
     "output_type": "display_data"
    },
    {
     "name": "stdout",
     "output_type": "stream",
     "text": [
      "\n",
      "Scores for generation 1:\n",
      "     0     1     2     3     4     5     6     7     8     9    10    11    12    13    14    15    16    17    18    19    20\n",
      "     1     0  1334   598  1492  1514  1820   746  1602   720  1510   552   490   470   468   408   502   478   498   556   546\n",
      "     2  1334     0   720  1312  1470  1314   888  1368   864  1322   584   604   602   586   506   578   614   546   620   542\n",
      "     3   598   720     0   570   710   558  1392   676  1346   618   668   688   614   546   640   658   564   686   590   638\n",
      "     4  1492  1312   570     0  1504  1392   766  1596   722  1670   594   582   546   624   468   632   600   550   624   592\n",
      "     5  1514  1470   710  1504     0  1414   828  1548   810  1556   580   544   546   550   460   526   584   542   624   588\n",
      "     6  1820  1314   558  1392  1414     0   736  1502   700  1410   592   470   464   494   418   528   442   518   544   562\n",
      "     7   746   888  1392   766   828   736     0   816  1820   742   594   612   560   476   546   588   618   574   606   592\n",
      "     8  1602  1368   676  1596  1548  1502   816     0   792  1622   536   500   474   498   440   518   522   536   568   498\n",
      "     9   720   864  1346   722   810   700  1820   792     0   688   600   612   560   468   554   586   642   600   612   598\n",
      "    10  1510  1322   618  1670  1556  1410   742  1622   688     0   584   552   510   560   446   536   550   526   562   592\n",
      "    11   552   584   668   594   580   592   594   536   600   584     0   590   600   668   536   624  1188  1820  1362  1674\n",
      "    12   490   604   688   582   544   470   612   500   612   552   590     0  1642  1522  1596  1576   690   510   584   630\n",
      "    13   470   602   614   546   546   464   560   474   560   510   600  1642     0  1444  1604  1498   704   548   618   630\n",
      "    14   468   586   546   624   550   494   476   498   468   560   668  1522  1444     0  1424  1734   692   628   650   712\n",
      "    15   408   506   640   468   460   418   546   440   554   446   536  1596  1604  1424     0  1484   566   530   472   544\n",
      "    16   502   578   658   632   526   528   588   518   586   536   624  1576  1498  1734  1484     0   694   544   636   680\n",
      "    17   478   614   564   600   584   442   618   522   642   550  1188   690   704   692   566   694     0  1122  1482  1166\n",
      "    18   498   546   686   550   542   518   574   536   600   526  1820   510   548   628   530   544  1122     0  1296  1574\n",
      "    19   556   620   590   624   624   544   606   568   612   562  1362   584   618   650   472   636  1482  1296     0  1344\n",
      "    20   546   542   638   592   588   562   592   498   598   592  1674   630   630   712   544   680  1166  1574  1344     0\n",
      "\n",
      "Predictions for generation 1:\n",
      "Predicted labels: [1 1 2 1 1 1 1 1 1 1 2 2 2 2 2 2 2 2 2 2]\n",
      "Individual 3 was from population 1, but 2 was predicted!\n",
      "Missed 1 out of 20 predictions.\n",
      "\n",
      "Scores for generation 2:\n",
      "     0     1     2     3     4     5     6     7     8     9    10    11    12    13    14    15    16    17    18    19    20\n",
      "     1     0  1588  1476  1570  1628   566  1668  1574  1490  1362   498   510   500   510   498   476   434   504   498   434\n",
      "     2  1588     0  1464  1768  1556   522  1840  1502  1398  1290   418   430   410   404   398   408   346   396   418   338\n",
      "     3  1476  1464     0  1432  1382   532  1504  1298  1538  1456   418   434   406   422   398   426   364   406   414   356\n",
      "     4  1570  1768  1432     0  1464   526  1808  1404  1380  1292   398   442   444   424   406   408   358   390   404   350\n",
      "     5  1628  1556  1382  1464     0   508  1496  1794  1366  1328   474   454   434   466   446   460   400   480   474   408\n",
      "     6   566   522   532   526   508     0   506   480   554   490   436   370   410   372   392   380   428   464   436   430\n",
      "     7  1668  1840  1504  1808  1496   506     0  1442  1438  1330   438   442   410   418   412   408   348   404   438   348\n",
      "     8  1574  1502  1298  1404  1794   480  1442     0  1352  1316   474   472   454   470   460   438   380   462   460   390\n",
      "     9  1490  1398  1538  1380  1366   554  1438  1352     0  1512   430   456   428   448   422   434   358   418   422   378\n",
      "    10  1362  1290  1456  1292  1328   490  1330  1316  1512     0   440   436   426   482   398   428   396   458   434   370\n",
      "    11   498   418   418   398   474   436   438   474   430   440     0  1728  1834  1714  1634  1642  1348  1814  1900  1342\n",
      "    12   510   430   434   442   454   370   442   472   456   436  1728     0  1762  1742  1754  1834  1300  1682  1748  1294\n",
      "    13   500   410   406   444   434   410   410   454   428   426  1834  1762     0  1708  1668  1676  1282  1768  1854  1276\n",
      "    14   510   404   422   424   466   372   418   470   448   482  1714  1742  1708     0  1628  1656  1254  1714  1734  1248\n",
      "    15   498   398   398   406   446   392   412   460   422   398  1634  1754  1668  1628     0  1668  1272  1568  1654  1266\n",
      "    16   476   408   426   408   460   380   408   438   434   428  1642  1834  1676  1656  1668     0  1246  1596  1662  1240\n",
      "    17   434   346   364   358   400   428   348   380   358   396  1348  1300  1282  1254  1272  1246     0  1268  1348  1822\n",
      "    18   504   396   406   390   480   464   404   462   418   458  1814  1682  1768  1714  1568  1596  1268     0  1834  1262\n",
      "    19   498   418   414   404   474   436   438   460   422   434  1900  1748  1854  1734  1654  1662  1348  1834     0  1342\n",
      "    20   434   338   356   350   408   430   348   390   378   370  1342  1294  1276  1248  1266  1240  1822  1262  1342     0\n",
      "\n",
      "Predictions for generation 2:\n",
      "Predicted labels: [1 1 1 1 1 1 1 1 1 1 2 2 2 2 2 2 2 2 2 2]\n",
      "Missed 0 out of 20 predictions.\n",
      "\n",
      "Scores for generation 3:\n",
      "     0     1     2     3     4     5     6     7     8     9    10    11    12    13    14    15    16    17    18    19    20\n",
      "     1     0  1398  1722  1502  1462  1456  1338  1502  1416  1424   542   522   546   534   572   522   516   542   544   522\n",
      "     2  1398     0  1504  1622  1668  1662  1438  1708  1484  1604   522   512   566   532   540   526   494   520   534   520\n",
      "     3  1722  1504     0  1608  1568  1562  1438  1608  1536  1530   546   534   552   520   592   514   528   540   528   514\n",
      "     4  1502  1622  1608     0  1760  1754  1610  1800  1640  1748   534   508   508   498   582   474   534   502   488   474\n",
      "     5  1462  1668  1568  1760     0  1880  1610  1880  1594  1682   526   502   494   478   554   462   540   476   462   462\n",
      "     6  1456  1662  1562  1754  1880     0  1604  1874  1588  1676   522   496   488   458   568   456   546   470   468   456\n",
      "     7  1338  1438  1438  1610  1610  1604     0  1650  1504  1524   534   508   520   512   506   488   500   522   482   488\n",
      "     8  1502  1708  1608  1800  1880  1874  1650     0  1634  1722   508   474   474   478   554   454   526   482   468   454\n",
      "     9  1416  1484  1536  1640  1594  1588  1504  1634     0  1608   542   514   512   518   588   494   526   522   488   494\n",
      "    10  1424  1604  1530  1748  1682  1676  1524  1722  1608     0   548   514   526   518   594   494   528   522   470   494\n",
      "    11   542   522   546   534   526   522   534   508   542   548     0  1668  1516  1662  1768  1708  1828  1748  1688  1668\n",
      "    12   522   512   534   508   502   496   508   474   514   514  1668     0  1708  1834  1568  1880  1628  1800  1760  1840\n",
      "    13   546   566   552   508   494   488   520   474   512   526  1516  1708     0  1682  1482  1728  1490  1648  1648  1688\n",
      "    14   534   532   520   498   478   458   512   478   518   518  1662  1834  1682     0  1562  1874  1622  1794  1754  1834\n",
      "    15   572   540   592   582   554   568   506   554   588   594  1768  1568  1482  1562     0  1608  1728  1648  1588  1568\n",
      "    16   522   526   514   474   462   456   488   454   494   494  1708  1880  1728  1874  1608     0  1668  1840  1800  1880\n",
      "    17   516   494   528   534   540   546   500   526   526   528  1828  1628  1490  1622  1728  1668     0  1708  1688  1628\n",
      "    18   542   520   540   502   476   470   522   482   522   522  1748  1800  1648  1794  1648  1840  1708     0  1794  1800\n",
      "    19   544   534   528   488   462   468   482   468   488   470  1688  1760  1648  1754  1588  1800  1688  1794     0  1760\n",
      "    20   522   520   514   474   462   456   488   454   494   494  1668  1840  1688  1834  1568  1880  1628  1800  1760     0\n",
      "\n",
      "Predictions for generation 3:\n",
      "Predicted labels: [1 1 1 1 1 1 1 1 1 1 2 2 2 2 2 2 2 2 2 2]\n",
      "Missed 0 out of 20 predictions.\n",
      "\n",
      "Scores for generation 4:\n"
     ]
    },
    {
     "name": "stdout",
     "output_type": "stream",
     "text": [
      "     0     1     2     3     4     5     6     7     8     9    10    11    12    13    14    15    16    17    18    19    20\n",
      "     1     0  1218  1814  1258  1304  1344  1808  1316  1390  1418   418   450   476   522   542   450   436   476   522   440\n",
      "     2  1218     0  1172  1374  1604  1682  1180  1682  1432  1546   434   424   466   466   488   432   444   440   474   404\n",
      "     3  1814  1172     0  1206  1218  1298  1742  1270  1324  1372   408   422   456   488   480   422   414   456   490   418\n",
      "     4  1258  1374  1206     0  1348  1406  1166  1426  1742  1500   434   452   442   456   490   434   472   458   464   434\n",
      "     5  1304  1604  1218  1348     0  1644  1264  1722  1412  1540   422   434   462   494   532   448   434   508   474   436\n",
      "     6  1344  1682  1298  1406  1644     0  1304  1722  1464  1586   446   444   470   474   508   426   452   500   482   442\n",
      "     7  1808  1180  1742  1166  1264  1304     0  1276  1284  1332   432   424   490   494   514   436   430   470   482   424\n",
      "     8  1316  1682  1270  1426  1722  1722  1276     0  1490  1618   428   458   460   490   536   472   478   520   498   440\n",
      "     9  1390  1432  1324  1742  1412  1464  1284  1490     0  1652   426   454   442   424   448   436   468   462   422   446\n",
      "    10  1418  1546  1372  1500  1540  1586  1332  1618  1652     0   436   460   444   466   478   422   460   478   452   490\n",
      "    11   418   434   408   434   422   446   432   428   426   436     0  1558  1676  1374  1334  1520  1498  1428  1380  1520\n",
      "    12   450   424   422   452   434   444   424   458   454   460  1558     0  1470  1504  1464  1868  1860  1576  1510  1816\n",
      "    13   476   466   456   442   462   470   490   460   442   444  1676  1470     0  1286  1228  1432  1410  1332  1274  1432\n",
      "    14   522   466   488   456   494   474   494   490   424   466  1374  1504  1286     0  1828  1538  1444  1538  1874  1526\n",
      "    15   542   488   480   490   532   508   514   536   448   478  1334  1464  1228  1828     0  1498  1458  1498  1834  1486\n",
      "    16   450   432   422   434   448   426   436   472   436   422  1520  1868  1432  1538  1498     0  1808  1610  1544  1764\n",
      "    17   436   444   414   472   434   452   430   478   468   460  1498  1860  1410  1444  1458  1808     0  1516  1450  1756\n",
      "    18   476   440   456   458   508   500   470   520   462   478  1428  1576  1332  1538  1498  1610  1516     0  1544  1578\n",
      "    19   522   474   490   464   474   482   482   498   422   452  1380  1510  1274  1874  1834  1544  1450  1544     0  1532\n",
      "    20   440   404   418   434   436   442   424   440   446   490  1520  1816  1432  1526  1486  1764  1756  1578  1532     0\n",
      "\n",
      "Predictions for generation 4:\n",
      "Predicted labels: [1 1 1 1 1 1 1 1 1 1 2 2 2 2 2 2 2 2 2 2]\n",
      "Missed 0 out of 20 predictions.\n"
     ]
    }
   ],
   "source": [
    "combined_pop, labels = get_sequences()\n",
    "#print(combined_pop)\n",
    "\n",
    "#printmatrix(compare(3, combined_pop))\n",
    "scores = []\n",
    "\n",
    "# Run the analysis for every generation\n",
    "for gen in range(0, len(combined_pop)):\n",
    "    # Get the alignment matrix for the generation\n",
    "    print(f'\\nScores for generation {gen + 1}:')\n",
    "    newscores, median = compare(gen, combined_pop)\n",
    "    printmatrix(newscores, 6)\n",
    "\n",
    "    # Find the two most similar sequences, and assume the next closest 4 in that row are all in the same group\n",
    "    predictions = []\n",
    "    bestcol = np.unravel_index(newscores.argmax(), newscores.shape)[0]\n",
    "    closest = np.argpartition(newscores[bestcol], -4)[-4:]\n",
    "    closest = np.append(closest, bestcol)\n",
    "    #print(closest)\n",
    "    \n",
    "    print(f'\\nPredictions for generation {gen + 1}:')\n",
    "    for p in closest:\n",
    "        #print(f'Key generated from individual {p + 1}')\n",
    "        temp = copy.deepcopy(newscores)\n",
    "        predictions.append(predict(temp, median, p))\n",
    "    \n",
    "    #printmatrix(predictions)\n",
    "    final = col_mode(predictions)\n",
    "    \n",
    "    print(f'Predicted labels: {final}')\n",
    "    #print(labels[gen])\n",
    "    \n",
    "    errors = 0\n",
    "    for i in range(0, len(final)):\n",
    "        if final[i] != labels[gen][i]:\n",
    "            print(f'Individual {i + 1} was from population {labels[gen][i]}, but {final[i]} was predicted!')\n",
    "            errors += 1\n",
    "        \n",
    "    print(f'Missed {errors} out of {len(final)} predictions.')\n",
    "    \n",
    "    scores.append(newscores)\n"
   ]
  },
  {
   "cell_type": "code",
   "execution_count": null,
   "metadata": {},
   "outputs": [],
   "source": []
  }
 ],
 "metadata": {
  "colab": {
   "provenance": []
  },
  "kernelspec": {
   "display_name": "Python 3 (ipykernel)",
   "language": "python",
   "name": "python3"
  },
  "language_info": {
   "codemirror_mode": {
    "name": "ipython",
    "version": 3
   },
   "file_extension": ".py",
   "mimetype": "text/x-python",
   "name": "python",
   "nbconvert_exporter": "python",
   "pygments_lexer": "ipython3",
   "version": "3.8.15"
  }
 },
 "nbformat": 4,
 "nbformat_minor": 1
}
